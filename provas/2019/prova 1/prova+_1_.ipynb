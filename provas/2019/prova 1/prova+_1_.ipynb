{
 "cells": [
  {
   "cell_type": "markdown",
   "metadata": {},
   "source": [
    "# Prova\n",
    "    \n",
    "Leia atentamente as instruções a seguir. Elas fazem parte da prova:\n",
    "\n",
    "*  Desligue seu celular e guarde em sua bolsa.\n",
    "*  Salve seu trabalho frequentemente.\n",
    "*  Ao término, salve e submeta este arquivo ao tidia na atividade Prova, da mesma forma como é feito nas listas de exercícios.\n",
    "*  A compreensão e interpretação do enunciado é parte integrante da avaliação.\n",
    "*  Não é permitida a consulta a nenhum material online (Internet) nem offline (cadernos, livros, etc.) e nem a colegas.\n",
    "*  Em caso de fraude, **todos** os envolvidos receberão **nota final zero** na disciplina, sem prejuı́zo de outras sanções.\n",
    "\n",
    "Critério de correção de cada exercı́cio: 0 se incorreto e/ou não executa; 0.5 se correto e executa mas não segue os padrões de submissão (**leia com atenção como deve ser a saı́da: nenhum outro texto deve ser impresso pelo seu programa além do que estiver especificado no campo \"Saı́da\"**); 1 caso contrário. Seu programa está **correto** se funciona para qualquer entrada especificada no campo \"Entrada\" do problema.\n",
    "\n",
    "***\n",
    "\n",
    "<center>**_BOA PROVA!_**</center>\n",
    "\n",
    "***"
   ]
  },
  {
   "cell_type": "markdown",
   "metadata": {},
   "source": [
    "## Questão 1 (Valor: 1,5)\n",
    "\n",
    "Faça um programa que leia os valores (decimais) correspondentes aos lados $a$, $b$ e $c$ de um triângulo e aplique o Teorema de Pitágoras. \n",
    "\n",
    "**Entrada:** O programa deve receber dois números decimais positivos do triângulo.\n",
    "\n",
    "**Saída:** A resposta consiste de um único número decimal, que indica o valor do lado faltante.\n",
    "\n",
    "\n",
    "| Exemplos de ENTRADA (C = B x A) | SAÍDA esperada (valor aproximado)     |\n",
    "|---------------------|--------------------|\n",
    "| 20 = 12 C           | 16.0               |\n",
    "| X = 8 6             | 10                 |\n",
    "| C = 240 180         | 300                |"
   ]
  },
  {
   "cell_type": "code",
   "execution_count": null,
   "metadata": {},
   "outputs": [],
   "source": [
    "a = float(input(\"Digite o valor do cateto ou 0 caso queira o valor: \"))\n",
    "b = float(input(\"Digite o valor do cateto ou 0 caso queira o valor: \"))\n",
    "c = float(input(\"Digite o valor da hipotenusa ou 0 caso queira o valor: \"))\n",
    "if c == 0:\n",
    "    c = a**2 + b **2\n",
    "    c = c ** 0.5\n",
    "    print(c)\n",
    "\n",
    "elif a == 0:\n",
    "    a = c**2 - b**2\n",
    "    a = a ** 0.5\n",
    "    print(a)\n",
    "else: \n",
    "    b = c**2 - a**2\n",
    "    b = b ** 0.5\n",
    "    print(b)"
   ]
  },
  {
   "cell_type": "markdown",
   "metadata": {},
   "source": [
    "## Questão 2 (Valor: 3,0)\n",
    "\n",
    "Leia quatro números ($N_1$, $N_2$, $N_3$, $N_4$), que correspondem às quatro notas de um aluno. Calcule a média com pesos 2, 3, 4 e 1 para cada uma destas notas, respectivamente, e mostre esta média acompanhada pela mensagem `Media: `. Se esta média for maior ou igual a 7.0, imprima também a mensagem `Aluno aprovado.`. Se a média calculada for inferior a 5.0, imprima a mensagem `Aluno reprovado.`. Se a média calculada for um valor entre 5.0 e 6.9, inclusive estes, o programa deve imprimir a mensagem `Aluno em exame.`. Cada mensagem deve ser impressa em uma única linha (veja os exemplos).\n",
    "\n",
    "Considere para o cálculo da média, a equação abaixo. \n",
    "\n",
    "$media = \\frac{\\sum_{i=1}^{n} p_{i}}{\\sum_{i=1}^{n} \\frac{p_{i}}{max(0.1, v_{i})}}$\n",
    "\n",
    "\n",
    "No caso do aluno estar em exame (e apenas nesse caso), leia ainda um valor correspondente à nota do exame obtida pelo aluno. Imprima então a mensagem ``Nota do exame: `` acompanhada pela nota digitada. Recalcule a média (some a pontuação do exame com a média anteriormente calculada e divida por 2) e imprima a mensagem ``Aluno aprovado.``,  caso a média final seja 5.0 ou mais, ou ``Aluno reprovado.``, caso a média tenha ficado menor do que 5.0. Para estes dois casos (aprovado ou reprovado após ter pego exame), apresente na última linha uma mensagem  ``Media final: `` seguida da média final para esse aluno.\n",
    "\n",
    "**Entrada:** A entrada inicialmente consiste de quatro números reais $N_1$, $N_2$, $N_3$, $N_4$ indicando as quatro notas de um aluno. \n",
    "\n",
    "**Saída:** As mensagens devem ser impressas conforme a descrição do problema. Não esqueça de imprimir uma mensagem por linha apenas.\n",
    "\n",
    "| Exemplo de entrada | Saída esperada |\n",
    "|--------------------|----------------|\n",
    "| 5.0 4.0 7.5 8.0    | Media: 5.53     |\n",
    "|                    | Aluno em exame.|\n",
    "\n",
    "| Exemplo de entrada | Saída esperada |\n",
    "|--------------------|----------------|\n",
    "| 2.0 6.5 4.0 9.0    | Media: 3.89     |\n",
    "|                    | Aluno reprovado. |\n",
    "\n",
    "| Exemplo de entrada | Saída esperada |\n",
    "|--------------------|----------------|\n",
    "| 9.0 7.0 8.5 9.0    | Media: 8.11    |\n",
    "|                    | Aluno aprovado.|\n"
   ]
  },
  {
   "cell_type": "code",
   "execution_count": null,
   "metadata": {},
   "outputs": [],
   "source": [
    "n1 = float(input(\"Digite a primeira nota: \"))\n",
    "n2 = float(input(\"Digite a segunda nota: \"))\n",
    "n3 = float(input(\"Digite a terceira nota: \"))\n",
    "n4 = float(input(\"Digite a quarta nota: \"))\n",
    "media = (n1*2 + n2*3 + n3*4 + n4*1)/10\n",
    "print(\"Média:\", media)\n",
    "if media >= 7:\n",
    "    print(\"Aluno aprovado.\")\n",
    "elif media < 5:\n",
    "    print(\"Aluno reprovado.\")\n",
    "else:\n",
    "    print(\"Aluno em exame.\")\n",
    "    n5 = float(input(\"Digite a nota do exame: \"))\n",
    "    mediaFinal = (media + n5)/2\n",
    "    if mediaFinal >= 5:\n",
    "        print(\"Aluno aprovado.\")\n",
    "    else: \n",
    "        print(\"Aluno reprovado.\")\n",
    "        print(\"Nota do exame: \", mediaFinal)"
   ]
  },
  {
   "cell_type": "markdown",
   "metadata": {},
   "source": [
    "## Questão 3 (Valor: 3.0)\n",
    "\n",
    "Um número inteiro positivo é dito perfeito se a soma dos seus divisores positivos (excluindo ele mesmo) é igual ao próprio número. Por exemplo, 6 é perfeito pois $1+2+3=6$. Faça um programa que determine se um dado número é perfeito. Lembre-se que os divisores de um número $n$ são todos os números entre $1$ e $n$ que dividem $n$ de forma exata (sem resto).\n",
    "\n",
    "**Entrada:** O programa deve receber um único número inteiro $n$, com $n \\geq 1$.\n",
    "\n",
    "**Saída:** A resposta consistirá de uma única linha, contendo a palavra `Sim`, se $n$ for perfeito, e `Não`, caso contrário."
   ]
  },
  {
   "cell_type": "code",
   "execution_count": null,
   "metadata": {},
   "outputs": [],
   "source": [
    "n = int(input(\"Digite um número maior ou igual a 1: \"))\n",
    "soma = 0\n",
    "for i in range (1, n):\n",
    "    if n % i == 0:\n",
    "        soma = soma + i\n",
    "if soma == n:\n",
    "    print(\"Sim\")\n",
    "else: \n",
    "    print(\"Não\")"
   ]
  },
  {
   "cell_type": "markdown",
   "metadata": {},
   "source": [
    "## Questão 4 (Valor: 1.5)\n",
    "\n",
    "Considere o seguinte algoritmo:\n",
    "\n",
    "~~~\n",
    "(1) receba um número n\n",
    "(2) se n for 1, então pare\n",
    "(3) se n for ímpar, então faça n = 3*n+1\n",
    "(4) senão, faça n = n/2\n",
    "(5) vá para a linha (2)\n",
    "~~~\n",
    "\n",
    "Por exemplo, quando $n=22$ é lido, a seguinte sequência de números será gerada: ``22 11 34 17 52 26 13 40 20 10 5 16 8 4 2 1``.\n",
    "\n",
    "Há uma conjectura de que o algoritmo acima irá terminar (ou seja, o número 1 será gerado) para qualquer\n",
    "valor $n$ positivo. Desconsiderando a simplicidade do algoritmo, não é sabido se a conjectura é\n",
    "verdadeira. Ela foi verificada, no entanto, para todos os inteiros $n$ tais que $0 < n < 1.000.000$ (e, de fato, para muito mais números maiores que isto).\n",
    "\n",
    "Dado um valor $n$, é possível determinar a quantidade de números gerados na sequência (incluindo o 1). Para um dado $n$, isto é chamado *tamanho cíclico* de $n$. No exemplo anterior, o tamanho cíclico de 22 é 16.\n",
    "\n",
    "Para quaisquer dois números $i$ e $j$, você deve determinar o tamanho cíclico de todos os números entre $i$ e $j$ *inclusive ambos* (ou seja, para todo $n$ tal que $i \\leq n \\leq j$).\n",
    "    \n",
    "**Entrada:** O programa deve receber dois números inteiros $i$ e $j$, com $0 < i \\leq j \\leq 10.000$.\n",
    "\n",
    "**Saída:** A resposta consistirá de $j-i+1$ linhas, uma para cada número $n$ entre $i$ e $j$ (inclusive). Cada linha deve conter dois números: o $n$ e o tamanho cíclico de $n$.\n",
    "\n",
    "| Exemplo de entrada | Saída esperada |\n",
    "|--------------------|----------------|\n",
    "| 10 22              |  10 7  | \n",
    "|                    |  11 15 | \n",
    "|                    |  12 10 | \n",
    "|                    |  13 10 | \n",
    "|                    |  14 18 | \n",
    "|                    |  15 18 | \n",
    "|                    |  16 5  | \n",
    "|                    |  17 13 | \n",
    "|                    |  18 21 | \n",
    "|                    |  19 21 | \n",
    "|                    |  20 8  | \n",
    "|                    |  21 8  | \n",
    "|                    |  22 16 | "
   ]
  },
  {
   "cell_type": "code",
   "execution_count": null,
   "metadata": {},
   "outputs": [],
   "source": [
    "i = int(input(\"Digite o primeiro número: \"))\n",
    "j = int(input(\"Digite o segundo número: \"))\n",
    "\n",
    "for n in range(i , j+1):\n",
    "    tamanhoCiclico = 1\n",
    "    numeros = n\n",
    "    while n > 1:\n",
    "        if n % 2 == 0:\n",
    "            n = (n / 2)\n",
    "        else: \n",
    "            n = (3 * n + 1)\n",
    "        tamanhoCiclico = tamanhoCiclico + 1\n",
    "    print(numeros, tamanhoCiclico)"
   ]
  },
  {
   "cell_type": "markdown",
   "metadata": {},
   "source": [
    "## Questão 5 (Valor: 1.0)\n",
    "\n",
    "<p>Faça um programa que leia um inteiro $n$, com $0 \\leq n \\leq 80$, e imprima uma saída da forma:</p>\n",
    "<pre>\n",
    "1\n",
    " 2\n",
    "  3\n",
    "   4\n",
    "    .\n",
    "     .\n",
    "      .\n",
    "       n\n",
    "</pre>\n",
    "\n",
    "<i>Dica:</i> pense primeiro em como você imprimiria uma das linhas (uma linha qualquer)."
   ]
  },
  {
   "cell_type": "code",
   "execution_count": null,
   "metadata": {},
   "outputs": [],
   "source": [
    "n = int(input(\"Digite um número entre 0 e 80: \"))\n",
    "texto = \"\"\n",
    "for i in range(n+1):\n",
    "    texto += \" \"\n",
    "    print(texto, i)"
   ]
  }
 ],
 "metadata": {
  "kernelspec": {
   "display_name": "Python 3",
   "language": "python",
   "name": "python3"
  },
  "language_info": {
   "codemirror_mode": {
    "name": "ipython",
    "version": 3
   },
   "file_extension": ".py",
   "mimetype": "text/x-python",
   "name": "python",
   "nbconvert_exporter": "python",
   "pygments_lexer": "ipython3",
   "version": "3.6.5"
  }
 },
 "nbformat": 4,
 "nbformat_minor": 1
}

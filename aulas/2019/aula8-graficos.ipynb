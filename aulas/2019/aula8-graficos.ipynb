{
 "cells": [
  {
   "cell_type": "markdown",
   "metadata": {},
   "source": [
    "# Representações gráficas\n",
    "\n",
    "Gráficos são formas de se representar visualmente dados ou valores numéricos, para torná-los mais claros e informativos.\n",
    "\n",
    "Geralmente são utilizados para mostrar padrões, tendências ou comparar informações.\n",
    "\n",
    "São utilizados em diversas áreas de estudo (matemática, estatística, geografia, economia, história, etc.).\n",
    "\n",
    "Nessa aula veremos como criar gráficos simples a partir de funções e, principalmente, a partir de bases de dados, em ambos os casos usando Python.\n",
    "\n",
    "> **De modo algum iremos cobrir nessa aula (ou nessa disciplina) tudo que existe sobre criação de gráficos e muito menos como fazer isso usando Python.\n",
    "> Existe muito a ser explorado sobre esses assuntos além do que veremos nesse notebook.**"
   ]
  },
  {
   "cell_type": "markdown",
   "metadata": {},
   "source": [
    "## Gráficos de funções matemáticas\n",
    "\n",
    "Vamos começar criando alguns gráficos a partir de funções matemáticas.\n",
    "\n",
    "Python oferece a biblioteca `Matplotlib`, que tem diversas funções prontas para fazer gráficos, e a biblioteca `Numpy`, que tem diversas funções matemáticas prontas.\n",
    "\n",
    "A opção `%matplotlib notebook` define como o gráfico vai aparecer. Existem outras opções, como `%matplotlib inline`, que você pode explorar depois."
   ]
  },
  {
   "cell_type": "code",
   "execution_count": 1,
   "metadata": {},
   "outputs": [],
   "source": [
    "import matplotlib.pyplot as plt\n",
    "import numpy as np\n",
    "%matplotlib notebook"
   ]
  },
  {
   "cell_type": "markdown",
   "metadata": {},
   "source": [
    "Basicamente, todo gráfico tem um eixo $x$, que fica na parte horizontal, e um eixo $y$, que fica na parte vertical.\n",
    "\n",
    "Vamos ver no exemplo a seguir como gerar um gráfico para a função $x^2 + 7$, para valores de $x$ variando entre 0 e 9, de uma em uma unidade.\n",
    "\n",
    "A função para criar o gráfico é simplesmente chamada de `plt.plot`:"
   ]
  },
  {
   "cell_type": "code",
   "execution_count": 2,
   "metadata": {
    "scrolled": true
   },
   "outputs": [
    {
     "data": {
      "text/plain": [
       "[<matplotlib.lines.Line2D at 0x7f62d03389e8>]"
      ]
     },
     "execution_count": 2,
     "metadata": {},
     "output_type": "execute_result"
    },
    {
     "data": {
      "image/png": "[encoded data removed]",
      "text/plain": [
       "<Figure size 432x288 with 1 Axes>"
      ]
     },
     "metadata": {},
     "output_type": "display_data"
    }
   ],
   "source": [
    "x = np.arange(0, 10, 1)\n",
    "y = x**2 + 7\n",
    "plt.plot(x,y)"
   ]
  },
  {
   "cell_type": "markdown",
   "metadata": {},
   "source": [
    "Veja que a curva do gráfico ficou com um leve aspecto de \"quebrada\".\n",
    "\n",
    "Isso ocorreu porque pedimos um intervalo de 1 unidade entre os pontos.\n",
    "\n",
    "Vamos suavizar o aspecto da curva pedindo intervalos menores, por exemplo de 0.1 unidade:"
   ]
  },
  {
   "cell_type": "code",
   "execution_count": 3,
   "metadata": {},
   "outputs": [
    {
     "data": {
      "text/plain": [
       "[<matplotlib.lines.Line2D at 0x7f62d02ad0f0>]"
      ]
     },
     "execution_count": 3,
     "metadata": {},
     "output_type": "execute_result"
    },
    {
     "data": {
      "image/png": "[encoded data removed]",
      "text/plain": [
       "<Figure size 432x288 with 1 Axes>"
      ]
     },
     "metadata": {},
     "output_type": "display_data"
    }
   ],
   "source": [
    "x = np.arange(0, 10, 0.1)\n",
    "y = x**2 + 7\n",
    "plt.plot(x,y)"
   ]
  },
  {
   "cell_type": "markdown",
   "metadata": {},
   "source": [
    "Podemos usar funções pré-existentes, oferecidas pelo `numpy`.\n",
    "\n",
    "Por exemplo, temos várias funções trigonométricas como a função para calcular o seno de números:"
   ]
  },
  {
   "cell_type": "code",
   "execution_count": null,
   "metadata": {
    "scrolled": false
   },
   "outputs": [],
   "source": [
    "x = np.arange(0, 10, 0.1)\n",
    "y = np.sin(x)\n",
    "plt.plot(x,y)"
   ]
  },
  {
   "cell_type": "markdown",
   "metadata": {},
   "source": [
    "[Esse site](https://docs.scipy.org/doc/numpy-1.13.0/reference/ufuncs.html#available-ufuncs) tem uma lista das várias funções que o numpy oferece.\n",
    "\n",
    "No exemplo a seguir usamos a função de logaritmo."
   ]
  },
  {
   "cell_type": "code",
   "execution_count": null,
   "metadata": {},
   "outputs": [],
   "source": [
    "x = np.arange(1, 100, 0.1)\n",
    "y = np.log(x)\n",
    "plt.plot(x,y)"
   ]
  },
  {
   "cell_type": "markdown",
   "metadata": {},
   "source": [
    "Note que a função `arange()` não funciona apenas para números positivos.\n",
    "\n",
    "A seguir temos o gráfico da função $3x^2 - 5x + 10$:"
   ]
  },
  {
   "cell_type": "code",
   "execution_count": null,
   "metadata": {},
   "outputs": [],
   "source": [
    "x = np.arange(-5, 5, 0.1)\n",
    "y = 3 * x**2 - 5*x + 10\n",
    "plt.plot(x,y)"
   ]
  },
  {
   "cell_type": "markdown",
   "metadata": {},
   "source": [
    "Podemos ainda personalizar nossos gráficos, colocando nome nos eixos e no próprio gráfico:"
   ]
  },
  {
   "cell_type": "code",
   "execution_count": null,
   "metadata": {},
   "outputs": [],
   "source": [
    "plt.xlabel(\"tempo (s)\")\n",
    "plt.ylabel(\"sinal\")\n",
    "plt.title(\"Sinal lido a cada instante de tempo\")\n",
    "\n",
    "x = np.arange(0, 10, 0.1)\n",
    "y = np.cos(x)\n",
    "plt.plot(x,y)"
   ]
  },
  {
   "cell_type": "markdown",
   "metadata": {},
   "source": [
    "Às vezes é útil ter uma grade no gráfico.\n",
    "\n",
    "Com ela podemos ver, por exemplo, em que pontos o gráfico cruza o eixo $x$ (definindo, assim, as _raízes_ da função).\n",
    "\n",
    "A seguir temos a função $2x -4x^3 + 9$, cuja raiz é, aproximadamente, $x = 1.4372$."
   ]
  },
  {
   "cell_type": "code",
   "execution_count": null,
   "metadata": {},
   "outputs": [],
   "source": [
    "plt.grid(True)\n",
    "x = np.arange(-5, 5, 0.1)\n",
    "y = 2*x - 4 * x**3 + 9\n",
    "plt.plot(x,y)"
   ]
  },
  {
   "cell_type": "markdown",
   "metadata": {},
   "source": [
    "Novamente, é importante você perceber que **é possível fazer muito mais** usando matplotlib e numpy.\n",
    "\n",
    "O que fizemos acima deve apenas servir de ponto de partida para você.\n",
    "\n",
    "Por exemplo, apenas plotamos gráficos do tipo _linha_, sendo que existem várias outros tipos de gráficos. Veremos mais sobre isso a seguir."
   ]
  },
  {
   "cell_type": "markdown",
   "metadata": {},
   "source": [
    "## Gráficos usando bases de dados\n",
    "\n",
    "Agora vamos criar gráficos a partir de bases de dados.\n",
    "\n",
    "O uso de gráficos torna a interpretação e/ou análise dos dados mais rápida e objetiva.\n",
    "\n",
    "Antes de verificar como fazer gráficos com Python, vamos aprender algumas coisas sobre gráficos de maneira geral."
   ]
  },
  {
   "cell_type": "markdown",
   "metadata": {},
   "source": [
    "### Tipos de gráficos\n",
    "\n",
    "Existem vários tipos de gráficos, sendo que cada um deles representa melhor um certo tipo de informação.\n",
    "\n",
    "Compreendê-los e escolher o formato ideal é essencial para realizar a leitura corretamente.\n",
    "\n",
    "Você pode dar uma olhada [nesse site](http://posgraduando.com/exemplos-de-graficos/) depois para ter uma ideia de como _não_ usar certos tipos de gráficos.\n",
    "\n",
    "> As figuras das seções a seguir não são de minha autoria e não foram geradas pelo Python.\n",
    "\n",
    "#### Gráfico de linhas\n",
    "Revela tendências e progressos ao longo do tempo. Você deve usá-los quando estiver traçando um conjunto de dados contínuos.\n",
    "\n",
    "<img width=60% src=\"http://static.wixstatic.com/media/d520ee_5f60ff9e51df4b33b1fbf95e70e01289~mv2.png/v1/fill/w_589,h_354,al_c,lg_1/d520ee_5f60ff9e51df4b33b1fbf95e70e01289~mv2.png\">\n",
    "\n",
    "#### Gráfico de barras\n",
    "Usado para comparar quantidades. As barras podem aparecer na vertical ou na horizontal e, quanto maior o comprimento de uma barra, maior o valor que representa. \n",
    "\n",
    "<img width=60% src=\"https://emilioparme.files.wordpress.com/2012/08/graficocoluna.jpg\">\n",
    "<img width=60% src=\"http://exceleasy.com.br/wp-content/uploads/2018/03/tipo-de-gr%C3%A1fico-no-Excel.png\">\n",
    "\n",
    "\n",
    "#### Gráfico de barras empilhadas\n",
    "Em um gráfico de barras empilhadas, as barras são divididas em segmentos de barra coloridos que são posicionados em cima uns dos outros. A altura total de uma barra mostra o valor numérico de uma determinada categoria e as alturas dos segmentos de barra representam a contribuição de diferentes componentes para aquele valor.\n",
    "\n",
    "<img width=40% src=\"https://www.matematica.pt/images/resumos/grafico-pictograma.png\">\n",
    "<img width=40% src=\"http://vispublica.gov.br/vispublica/resources/img/crieSeuGrafico/visualizacaoStackedColumn.png\">\n",
    "\n",
    "#### Gráfico de pizza\n",
    "Serve para mostrar como as categorias representam parte de um todo. A soma total de todas as categorias precisa ser igual a 100%.\n",
    "\n",
    "<img width=40% src=\"https://rockntech.com.br/wp-content/uploads/2015/02/graficos-pizza-divertidos_1.jpg\">\n",
    "<img width=40% src=\"http://s3.amazonaws.com/magoo/ABAAAAuMkAB-2.jpg\">\n",
    "\n",
    "#### Histograma\n",
    "Utilizado para indicar a distribuição dos dados. Apresenta diversas barras verticais, sendo que base de cada barra representa uma classe e a altura de cada barra representa a quantidade ou a frequência absoluta com que o valor da classe ocorre no conjunto de dados.\n",
    "De certa forma se assemelha ao gráfico de barras, mas em geral não apresenta espaço entre as barras.\n",
    "\n",
    "<img width=60% src=\"http://www.microlins.com.br/galeria/repositorio/images/noticias/como-fazer-histograma-no-excel/08-como-fazer-histograma-no-excel.jpg\">"
   ]
  },
  {
   "cell_type": "markdown",
   "metadata": {},
   "source": [
    "### Gráficos em Python com o Pandas\n",
    "\n",
    "Finalmente, vamos aprender como utilizar o Python para criar gráficos a partir de uma base de dados.\n",
    "\n",
    "Como na aula passada, vamos utilizar o Pandas para nos auxiliar na manipulação das bases de dados."
   ]
  },
  {
   "cell_type": "code",
   "execution_count": 4,
   "metadata": {},
   "outputs": [],
   "source": [
    "import pandas as pd\n",
    "from IPython.display import display"
   ]
  },
  {
   "cell_type": "markdown",
   "metadata": {},
   "source": [
    "Vamos utilizar quatro arquivos nessa aula.\n",
    "\n",
    "O arquivo `pib-percapita.csv` contém informações sobre o produto interno bruto (PIB) por habitante, para várias cidades brasileiras com dados do ano 2009.\n",
    "\n",
    "O arquivo `temperatura-SA.csv` contém informações sobre a temperatura, chuva, nebulosidade e duração do sol em Santo André por hora entre os dias 14 e 28 de julho de 2018.\n",
    "\n",
    "O arquivo `populacao-urbana.csv` contém a população por país entre os anos 3700 A.C. e 2000 D.C.\n",
    "\n",
    "O arquivo `agua.csv` contém informações sobre abastecimento de água nas residências do Brasil que foram visitadas no Censo de 2010, por município."
   ]
  },
  {
   "cell_type": "code",
   "execution_count": 5,
   "metadata": {},
   "outputs": [],
   "source": [
    "pib = pd.read_csv(\"pib-percapita.csv\", sep=\";\")\n",
    "temperatura = pd.read_csv(\"temperatura-SA.csv\", sep=\";\")\n",
    "populacao = pd.read_csv(\"populacao-urbana.csv\", sep=\";\")\n",
    "agua = pd.read_csv(\"agua.csv\", sep=\";\")"
   ]
  },
  {
   "cell_type": "code",
   "execution_count": null,
   "metadata": {},
   "outputs": [],
   "source": [
    "display(pib.head())"
   ]
  },
  {
   "cell_type": "code",
   "execution_count": null,
   "metadata": {},
   "outputs": [],
   "source": [
    "display(temperatura.head())"
   ]
  },
  {
   "cell_type": "code",
   "execution_count": null,
   "metadata": {
    "scrolled": true
   },
   "outputs": [],
   "source": [
    "display(populacao.head())"
   ]
  },
  {
   "cell_type": "code",
   "execution_count": null,
   "metadata": {},
   "outputs": [],
   "source": [
    "display(agua.head())"
   ]
  },
  {
   "cell_type": "markdown",
   "metadata": {},
   "source": [
    "### Importante\n",
    "\n",
    "Lembre-se de que as tabelas são do tipo DataFrame.\n",
    "\n",
    "Assim, `pib`, `temperatura` e `populacao` são variáveis do tipo DataFrame."
   ]
  },
  {
   "cell_type": "markdown",
   "metadata": {},
   "source": [
    "### Importante 2\n",
    "\n",
    "A informação mais importante que você precisa guardar é que o Pandas **compara colunas de um único DataFrame** entre si.\n",
    "\n",
    "Assim, tanto os valores do eixo $x$ quanto do eixo $y$ do gráfico devem estar armazenados em colunas.\n",
    "\n",
    "Isso significa que se não houver uma coluna com os valores que você deseja mostrar no gráfico, você deve de alguma forma criar uma coluna nova e utilizá-la."
   ]
  },
  {
   "cell_type": "markdown",
   "metadata": {},
   "source": [
    "### Importante 3\n",
    "\n",
    "Esse notebook não vai ter campos de \"Faça você mesmo\" especificamente. \n",
    "\n",
    "No entanto, você deve modificar os comandos dos exemplos que serão dados e testar as diferentes possibilidades."
   ]
  },
  {
   "cell_type": "markdown",
   "metadata": {},
   "source": [
    "## Funções do Pandas para plotagem de gráficos\n",
    "\n",
    "Vamos precisar de apenas quatro funções para conseguir plotar gráficos usando o Pandas: `plot()`, `hist()`, `groupby()` e `agg()`."
   ]
  },
  {
   "cell_type": "markdown",
   "metadata": {},
   "source": [
    "### plot()\n",
    "\n",
    "A função `plot()` pode ser aplicada sobre uma tabela (dataframe) e é a que de fato cria um gráfico. Seus possíveis parâmetros são:\n",
    " * `x`: para indicar a coluna que será usada no eixo $x$ (se não especificado, o índice da tabela será usado)\n",
    " * `y`: para indicar a lista de colunas que serão usadas no eixo $y$\n",
    " * `kind`: para indicar o tipo do gráfico, que pode ser `line` (linha), `bar` (barra vertical), `barh` (barra horizontal), `pie` (pizza). Existem ainda outros tipos\n",
    " * `title`: para indicar o título do gráfico\n",
    " * `grid`: para indicar se deve ou não ser impressa uma grade no gráfico\n",
    " * `stacked`: para, no caso dos gráficos de barra, indicar se é barra empilhada ou não\n",
    " * `figsize`: para indicar o tamanho da figura\n",
    " * `logx`: para indicar se a escala do eixo x deve ser logarítmica\n",
    " * `logy`: para indicar se a escala do eixo y deve ser logarítmica\n",
    "  \n",
    "Veremos a seguir vários exemplos utilizando essa função.\n",
    "\n",
    ">_Lembre-se de brincar com os exemplos: por exemplo, trocando o tipo de gráfico ou as colunas que estão sendo utilizadas._"
   ]
  },
  {
   "cell_type": "markdown",
   "metadata": {},
   "source": [
    "#### Exemplo de plot(): Variação da temperatura em Santo André no dia 21 de julho de 2018\n",
    "\n",
    "Temos no arquivo que foi aberto na variável `temperatura` uma coluna `Hora` e uma coluna `Temperatura`. Vamos compará-las a seguir:"
   ]
  },
  {
   "cell_type": "code",
   "execution_count": 6,
   "metadata": {
    "scrolled": true
   },
   "outputs": [
    {
     "data": {
      "text/plain": [
       "<matplotlib.axes._subplots.AxesSubplot at 0x7f62f8ff0cc0>"
      ]
     },
     "execution_count": 6,
     "metadata": {},
     "output_type": "execute_result"
    },
    {
     "data": {
      "image/png": "[encoded data removed]",
      "text/plain": [
       "<Figure size 432x288 with 1 Axes>"
      ]
     },
     "metadata": {},
     "output_type": "display_data"
    }
   ],
   "source": [
    "condicao = temperatura[\"Dia\"] == 21\n",
    "temperatura[condicao].plot(x=\"Hora\", y=[\"Temperatura\"], kind=\"line\", title=\"Temperatura em SA (21/07/2018)\")"
   ]
  },
  {
   "cell_type": "markdown",
   "metadata": {},
   "source": [
    "Podemos perceber que a maior temperatura do dia (pouco mais de 24 graus) aconteceu por volta das 11h."
   ]
  },
  {
   "cell_type": "markdown",
   "metadata": {},
   "source": [
    "#### Exemplo de plot(): Valor do PIB per capita por cidade do Acre, em 2009"
   ]
  },
  {
   "cell_type": "code",
   "execution_count": null,
   "metadata": {
    "scrolled": true
   },
   "outputs": [],
   "source": [
    "condicao = pib[\"UF\"] == \"ACRE\"\n",
    "pib[condicao].plot(x=\"Cidade\", y=[\"PIB percapita\"], kind=\"bar\")"
   ]
  },
  {
   "cell_type": "markdown",
   "metadata": {},
   "source": [
    "Note que a cidade Bujari é que teve maior PIB per capita no Acre em 2009, ficando sua capital Rio Branco em segundo lugar.\n",
    "\n",
    "Faça um teste agora e troque o estado \"ACRE\" no comando acima por, sei lá, \"MINAS GERAIS\".\n",
    "\n",
    "Como são muitas as cidades, o gráfico vai ficar ilegível!"
   ]
  },
  {
   "cell_type": "markdown",
   "metadata": {},
   "source": [
    "#### Exemplo de plot(): Valor do PIB e do PIB per capita por cidade do Acre, em 2009\n",
    "\n",
    "Como as colunas PIB e PIB per capita se referem a coisas com mesma unidade de medida, faz sentido usar um mesmo gráfico para observá-las:"
   ]
  },
  {
   "cell_type": "code",
   "execution_count": null,
   "metadata": {
    "scrolled": true
   },
   "outputs": [],
   "source": [
    "condicao = pib[\"UF\"] == \"ACRE\"\n",
    "pib[condicao].plot(x=\"Cidade\", y=[\"PIB\", \"PIB percapita\"], kind=\"bar\")"
   ]
  },
  {
   "cell_type": "markdown",
   "metadata": {},
   "source": [
    "Mas note que agora o grafo ficou ilegível também (não dá para ver as colunas de PIB per capita).\n",
    "\n",
    "Podemos transformar a escala do gráfico para logarítmica:"
   ]
  },
  {
   "cell_type": "code",
   "execution_count": null,
   "metadata": {
    "scrolled": false
   },
   "outputs": [],
   "source": [
    "condicao = pib[\"UF\"] == \"ACRE\"\n",
    "pib[condicao].plot(x=\"Cidade\", y=[\"PIB\", \"PIB percapita\"], kind=\"bar\", logy=True)"
   ]
  },
  {
   "cell_type": "markdown",
   "metadata": {},
   "source": [
    "Como se explica o fato de Rio Branco ter o maior PIB e ao mesmo tempo não ter o maior PIB per capita (e sim o segundo maior PIB per capita)? E Bujari, que nem tem o segundo maior PIB?"
   ]
  },
  {
   "cell_type": "code",
   "execution_count": null,
   "metadata": {},
   "outputs": [],
   "source": [
    "condicao = (pib[\"UF\"] == \"ACRE\") & ((pib[\"Cidade\"] == \"Rio Branco\") | (pib[\"Cidade\"] == \"Bujari\"))\n",
    "display(pib[condicao])"
   ]
  },
  {
   "cell_type": "markdown",
   "metadata": {},
   "source": [
    "#### Exemplo de plot(): Cidades que concentravam a população do Japão no ano de 1500"
   ]
  },
  {
   "cell_type": "code",
   "execution_count": null,
   "metadata": {
    "scrolled": false
   },
   "outputs": [],
   "source": [
    "condicao = (populacao[\"País\"] == \"Japan\") & (populacao[\"Ano\"] == 1500)\n",
    "populacao[condicao].plot(x=\"Cidade\", y=\"População\", kind=\"pie\")"
   ]
  },
  {
   "cell_type": "markdown",
   "metadata": {},
   "source": [
    "Ao plotar um gráfico de pizza, o Pandas automaticamente considera que os nomes de cada parte \"da pizza\" são os índices. Por isso temos esses números sendo mostrados na legenda do gráfico acima.\n",
    "\n",
    "Para arrumar isso, vamos indicar que o índice deve ser o nome das cidades:"
   ]
  },
  {
   "cell_type": "code",
   "execution_count": null,
   "metadata": {
    "scrolled": true
   },
   "outputs": [],
   "source": [
    "condicao = (populacao[\"País\"] == \"Japan\") & (populacao[\"Ano\"] == 1500)\n",
    "# vamos criar um dataframe novo, para não alterar nada do anterior:\n",
    "populacao2 = populacao[condicao]\n",
    "populacao2.set_index(\"Cidade\", inplace=True)\n",
    "populacao2.plot(y=\"População\", kind=\"pie\")"
   ]
  },
  {
   "cell_type": "markdown",
   "metadata": {},
   "source": [
    "Para fins estéticos, vamos tirar a legenda de cima do gráfico (usando a função `legend` abaixo) e também vamos alterar o tamanho do gráfico com o parâmetro `figsize`:"
   ]
  },
  {
   "cell_type": "code",
   "execution_count": null,
   "metadata": {
    "scrolled": false
   },
   "outputs": [],
   "source": [
    "condicao = (populacao[\"País\"] == \"Japan\") & (populacao[\"Ano\"] == 1500)\n",
    "populacao2 = populacao[condicao]\n",
    "populacao2.set_index(\"Cidade\", inplace=True)\n",
    "populacao2.plot(y=\"População\", kind=\"pie\", figsize=(5,5)).legend(bbox_to_anchor=(1.5, 1))"
   ]
  },
  {
   "cell_type": "markdown",
   "metadata": {},
   "source": [
    "#### Exemplo de plot(): Residências do estado de Roraima e o recebimento de água\n",
    "\n",
    "Do total de residências visitadas pelo Censo em cada município brasileiro, algumas possuem água em pelo menos um cômodo, outras possuem água no terreno ou propriedade e outras nem possuem água.\n",
    "\n",
    "Vamos visualizar esses dados na forma de grafo de barras empilhadas (pois cada barra irá conter o total de residências daquele município)."
   ]
  },
  {
   "cell_type": "code",
   "execution_count": null,
   "metadata": {
    "scrolled": true
   },
   "outputs": [],
   "source": [
    "condicao = agua[\"Estado\"] == \"Roraima\"\n",
    "agua[condicao].plot(x=\"Município\", y=[\"Água em pelo menos um cômodo\", \"Água no terreno ou propriedade\", \"Não tinham\"],\n",
    "                    kind=\"bar\", stacked=True, figsize=(15,5))"
   ]
  },
  {
   "cell_type": "markdown",
   "metadata": {},
   "source": [
    "Vamos omitir a cidade de Boa Vista, que teve um número muito maior de residências visitadas, para poder observar melhor o que acontece com os outros municípios:"
   ]
  },
  {
   "cell_type": "code",
   "execution_count": null,
   "metadata": {},
   "outputs": [],
   "source": [
    "condicao = (agua[\"Estado\"] == \"Roraima\") & (agua[\"Município\"] != \"Boa Vista\")\n",
    "agua[condicao].plot(x=\"Município\", y=[\"Água em pelo menos um cômodo\", \"Água no terreno ou propriedade\", \"Não tinham\"],\n",
    "                    kind=\"bar\", stacked=True, figsize=(15,5))"
   ]
  },
  {
   "cell_type": "markdown",
   "metadata": {},
   "source": [
    "#### Exemplo de plot(): Variação da temperatura em SA entre os dias 20 e 25 de julho\n",
    "\n",
    "Até agora vimos exemplos bem simples que plotam dados sobre uma única cidade, um único dia ou um único país.\n",
    "\n",
    "Mas e se quisermos comparar dados entre vários dias, várias cidades ou vários países?\n",
    "\n",
    "Vamos filtrar o dataframe `temperatura` para pegar os dados de temperatura entre os dias 20 e 25 de julho em Santo André e tentar plotar algum gráfico com isso:"
   ]
  },
  {
   "cell_type": "code",
   "execution_count": null,
   "metadata": {},
   "outputs": [],
   "source": [
    "condicao = (temperatura[\"Dia\"] >= 20) & (temperatura[\"Dia\"] <= 25)\n",
    "temperatura[condicao].plot(x=\"Hora\", y=\"Temperatura\", kind=\"line\")"
   ]
  },
  {
   "cell_type": "markdown",
   "metadata": {},
   "source": [
    "Veja como o gráfico acima não faz sentido nenhum.\n",
    "\n",
    "Isso acontece porque o que o `plot()` faz é simplesmente colocar no gráfico os dados de todas as linhas de uma vez. \n",
    "\n",
    "Quando tínhamos só o dia 21, só tinha um dado de temperatura para o horário das 10h, por exemplo. Agora temos 6 dados de temperatura para o horário das 10h (dos dias 20, 21, 22, 23, 24 e 25).\n",
    "\n",
    "Tente modificar o tipo do gráfico para ver se o problema é resolvido.\n",
    "\n",
    "É para resolver esse tipo de problema que vamos também estudar as funções `groupby()` e `agg()` mencionadas anteriormente."
   ]
  },
  {
   "cell_type": "markdown",
   "metadata": {},
   "source": [
    "### hist()\n",
    "\n",
    "A função `hist()` pode ser aplicada sobre uma tabela (dataframe) e é específica para criar histogramas.\n",
    "\n",
    "Ela recebe uma lista de colunas que armazenam os dados sobre os quais queremos criar a distribuição.\n",
    "\n",
    "Vejamos um exemplo a seguir."
   ]
  },
  {
   "cell_type": "markdown",
   "metadata": {},
   "source": [
    "#### Exemplo de hist(): Distribuição da população do estado de São Paulo em 2009\n",
    "\n",
    "Vamos criar um histograma para verificar a distribuição da população em São Paulo no ano de 2009.\n",
    "\n",
    "Cada classe (barra) do histograma vai indicar um intervalo de quantidade de pessoas e o tamanho da barra vai indicar quantas cidades estão naquela classe:"
   ]
  },
  {
   "cell_type": "code",
   "execution_count": null,
   "metadata": {
    "scrolled": true
   },
   "outputs": [],
   "source": [
    "condicao = pib[\"UF\"] == \"SÃO PAULO\"\n",
    "pib[condicao].hist(\"População (2009)\")"
   ]
  },
  {
   "cell_type": "markdown",
   "metadata": {},
   "source": [
    "Veja que o gráfico acima não informa nada: a capital de São Paulo tem *muito* mais habitantes do que as outras cidades, ficando sozinha na última barra (que começa no valor $1.0 \\times 10^7$) enquanto que praticamente todas as outras cidades estão aglomeradas na primeira barra.\n",
    "\n",
    "Para consertar isso, normalizamos os valores aplicando a função de logarítmo (na base 10) sobre os dados da população.\n",
    "\n",
    "Vamos criar uma nova coluna para armazenar esse valor para poder utilizá-la depois na plotagem:"
   ]
  },
  {
   "cell_type": "code",
   "execution_count": null,
   "metadata": {
    "scrolled": false
   },
   "outputs": [],
   "source": [
    "pib['População (log10)'] = np.log10(pib['População (2009)'])\n",
    "display(pib.head())"
   ]
  },
  {
   "cell_type": "markdown",
   "metadata": {},
   "source": [
    "Agora vamos criar o histograma com essa nova coluna:"
   ]
  },
  {
   "cell_type": "code",
   "execution_count": null,
   "metadata": {
    "scrolled": true
   },
   "outputs": [],
   "source": [
    "condicao = pib[\"UF\"] == \"SÃO PAULO\"\n",
    "pib[condicao].hist(\"População (log10)\")"
   ]
  },
  {
   "cell_type": "markdown",
   "metadata": {},
   "source": [
    "A informação que temos do gráfico acima é que, por exemplo, entre 20 e 30 cidades de São Paulo têm população entre aproximadamente $10^{2.8}$ e $10^{3.35}$ habitantes (primeira barra). A maioria das cidades (cerca de 450) de São Paulo têm população entre aproximadamente $10^{3.35}$ e $10^{4.55}$ habitantes (segunda a quarta barras). Uma ou duas cidades (provavelmente apenas a capital) têm população acima de $10^{6.5}$ habitantes.\n",
    "\n",
    "Verificando:"
   ]
  },
  {
   "cell_type": "code",
   "execution_count": null,
   "metadata": {
    "scrolled": true
   },
   "outputs": [],
   "source": [
    "condicao = (pib[\"UF\"] == \"SÃO PAULO\") & (pib[\"População (2009)\"] >= 10**2.8) & (pib[\"População (2009)\"] <= 10**3.35)\n",
    "print(pib[condicao].shape)\n",
    "\n",
    "condicao = (pib[\"UF\"] == \"SÃO PAULO\") & (pib[\"População (2009)\"] >= 10**3.35) & (pib[\"População (2009)\"] <= 10**4.55)\n",
    "print(pib[condicao].shape)\n",
    "\n",
    "condicao = (pib[\"UF\"] == \"SÃO PAULO\") & (pib[\"População (2009)\"] >= 10**6.5)\n",
    "print(pib[condicao].shape)\n",
    "display(pib[condicao])"
   ]
  },
  {
   "cell_type": "markdown",
   "metadata": {},
   "source": [
    "### groupby()\n",
    "\n",
    "A função `groupby()` pode ser aplicada sobre uma tabela (dataframe) e ela vai separar os dados em grupos baseados em algum critério. \n",
    "\n",
    "Quando aplicada, ela não cria um novo dataframe, mas de certa forma cria vários, um para cada grupo.\n",
    "\n",
    "Ela recebe como parâmetro apenas uma coluna ou lista de colunas e vai criar grupos de acordo com valores que se repetem nessas colunas.\n",
    "\n",
    "Vamos ver alguns exemplos a seguir."
   ]
  },
  {
   "cell_type": "markdown",
   "metadata": {},
   "source": [
    "#### Exemplo de groupby(): Dados da temperatura em SA entre os dias 14 e 28 de julho\n",
    "\n",
    "A tabela `temperatura` contém dados de hora em hora para todos os dias entre 14 e 28 de julho, em Santo André.\n",
    "\n",
    "Podemos agrupar os dados da tabela por dia:"
   ]
  },
  {
   "cell_type": "code",
   "execution_count": null,
   "metadata": {},
   "outputs": [],
   "source": [
    "temperatura_agrupado = temperatura.groupby(\"Dia\")\n",
    "type(temperatura_agrupado)"
   ]
  },
  {
   "cell_type": "markdown",
   "metadata": {},
   "source": [
    "Quando usamos a função `groupby()` sobre uma tabela, ela não cria uma nova tabela (dataframe). Ela cria um dado diferente.\n",
    "\n",
    "Como foi criado um grupo para cada dia, podemos visualizar cada grupo como uma tabela diferente:"
   ]
  },
  {
   "cell_type": "code",
   "execution_count": null,
   "metadata": {
    "scrolled": false
   },
   "outputs": [],
   "source": [
    "# visualizando apenas os dados do grupo do dia 21 de julho:\n",
    "display(temperatura_agrupado.get_group(21))"
   ]
  },
  {
   "cell_type": "markdown",
   "metadata": {},
   "source": [
    "Mas nós já sabíamos como ver apenas os dados do dia 21 de julho:"
   ]
  },
  {
   "cell_type": "code",
   "execution_count": null,
   "metadata": {
    "scrolled": true
   },
   "outputs": [],
   "source": [
    "condicao = temperatura[\"Dia\"] == 21\n",
    "display(temperatura[condicao])"
   ]
  },
  {
   "cell_type": "markdown",
   "metadata": {},
   "source": [
    "Então para que serviu o agrupamento?\n",
    "\n",
    "É que sobre os dados agrupados (e não apenas sobre um grupo), podemos aplicar funções para obter uma única tabela.\n",
    "\n",
    "Para isso vamos precisar da última função que eu mencionei, a função `agg()`."
   ]
  },
  {
   "cell_type": "markdown",
   "metadata": {},
   "source": [
    "### agg()\n",
    "\n",
    "A função `agg()` serve para transformar os dados de uma coluna inteira em um único dado, de acordo com uma ou  mais funções (por exemplo, `agg(\"max\")` gera o maior valor da coluna, `agg(\"mean\")` gera a média da coluna, etc.).\n",
    "\n",
    "Ela pode ser aplicada sobre um dataframe ou então sobre os grupos criados pela `groupby()`.\n",
    "\n",
    "Vejamos alguns exemplos para seu funcionamento ficar mais claro."
   ]
  },
  {
   "cell_type": "code",
   "execution_count": null,
   "metadata": {
    "scrolled": false
   },
   "outputs": [],
   "source": [
    "# Vamos aplicar a função agg() sobre um dataframe primeiro:\n",
    "display(temperatura.agg(\"max\"))"
   ]
  },
  {
   "cell_type": "markdown",
   "metadata": {},
   "source": [
    "Veja que ela criou uma única coluna, que tem o maior valor de cada coluna do dataframe `temperatura`. Por exemplo, o maior \"Dia\" é 28 porque o dataframe só tem dados entre os dias 14 e 28.\n",
    "\n",
    "Agora, essa informação não parece tão útil.\n",
    "\n",
    "Vamos então aplicá-la sobre os grupos que criamos acima:"
   ]
  },
  {
   "cell_type": "code",
   "execution_count": null,
   "metadata": {
    "scrolled": true
   },
   "outputs": [],
   "source": [
    "temperatura_agrupado = temperatura.groupby(\"Dia\")\n",
    "display(temperatura_agrupado.agg(\"max\"))"
   ]
  },
  {
   "cell_type": "markdown",
   "metadata": {},
   "source": [
    "Agora sim, para cada dia (veja a coluna mais à esquerda) temos apenas o valor máximo de cada uma das colunas.\n",
    "\n",
    "Agora que temos uma tabela, podemos plotar um gráfico que faça sentido:"
   ]
  },
  {
   "cell_type": "code",
   "execution_count": 7,
   "metadata": {
    "scrolled": false
   },
   "outputs": [
    {
     "data": {
      "text/plain": [
       "<matplotlib.axes._subplots.AxesSubplot at 0x7f62c97c8f28>"
      ]
     },
     "execution_count": 7,
     "metadata": {},
     "output_type": "execute_result"
    },
    {
     "data": {
      "image/png": "[encoded data removed]",
      "text/plain": [
       "<Figure size 432x288 with 1 Axes>"
      ]
     },
     "metadata": {},
     "output_type": "display_data"
    }
   ],
   "source": [
    "temperatura_agrupado = temperatura.groupby(\"Dia\")\n",
    "temperatura_agrupado.agg(\"max\").plot(y=[\"Temperatura\"], kind=\"line\", title=\"Temperatura máxima de 14 a 28 de julho\")"
   ]
  },
  {
   "cell_type": "markdown",
   "metadata": {},
   "source": [
    "De onde vemos que no dia 20 de julho tivemos a maior temperatura do período (cerca de 27 graus)."
   ]
  },
  {
   "cell_type": "markdown",
   "metadata": {},
   "source": [
    "Podemos usar uma lista de funções (e não apenas \"max\"):"
   ]
  },
  {
   "cell_type": "code",
   "execution_count": null,
   "metadata": {},
   "outputs": [],
   "source": [
    "temperatura_agrupado = temperatura.groupby(\"Dia\")\n",
    "display(temperatura_agrupado.agg([\"max\", \"mean\", \"min\"]))"
   ]
  },
  {
   "cell_type": "code",
   "execution_count": null,
   "metadata": {
    "scrolled": true
   },
   "outputs": [],
   "source": [
    "temperatura_agrupado = temperatura.groupby(\"Dia\")\n",
    "temperatura_agrupado.agg([\"max\", \"mean\", \"min\"]).plot(y=\"Temperatura\", kind=\"line\")"
   ]
  },
  {
   "cell_type": "markdown",
   "metadata": {},
   "source": [
    "No gráfico acima vemos que a temperatura mínima do período aconteceu no dia 18 de julho, sendo próxima a 12 graus, e que a amplitude nesse dia foi bem alta, já que a temperatura máxima foi de 26 graus (ou seja, uma variação de 14 graus no mesmo dia)."
   ]
  },
  {
   "cell_type": "markdown",
   "metadata": {},
   "source": [
    "Principais funções para usar na função `agg()`: `max`, `mean`, `min`, `sum`."
   ]
  },
  {
   "cell_type": "markdown",
   "metadata": {},
   "source": [
    "## Exemplos\n",
    "\n",
    "Agora que já vimos as quatro funções que vamos precisar para criar gráficos com o pandas (`plot()`, `hist()`, `groupby()` e `agg()`), vamos ver a seguir vários exemplos de uso delas para realmente entender suas aplicações.\n",
    "\n",
    "Estude cada exemplo com cuidado e crie suas próprias variações."
   ]
  },
  {
   "cell_type": "markdown",
   "metadata": {},
   "source": [
    "Vamos verificar quantas horas de sol ao todo cada dia de julho teve:"
   ]
  },
  {
   "cell_type": "code",
   "execution_count": null,
   "metadata": {
    "scrolled": true
   },
   "outputs": [],
   "source": [
    "# Primeiro agrupamos a tabela por dia e então agregamos os dados somando-os\n",
    "temperatura_agrupada = temperatura.groupby(\"Dia\").agg(\"sum\")\n",
    "# Assim, a coluna \"Duração do sol (min)\" tem o total de minutos de sol que o dia teve\n",
    "# Então criamos uma coluna nova, para calcular esse mesmo tempo só que em horas:\n",
    "temperatura_agrupada[\"Luminosidade (h)\"] = temperatura_agrupada[\"Duração do sol (min)\"]/60\n",
    "# E plotamos o gráfico de barras:\n",
    "temperatura_agrupada.plot(y=\"Luminosidade (h)\", kind=\"bar\")"
   ]
  },
  {
   "cell_type": "markdown",
   "metadata": {},
   "source": [
    "A luminosidade foi zero nos dias 22 e 24 e bem perto disso no dia 25. O sol não nasceu nesses dias?\n",
    "\n",
    "Provavelmente, a nebulosidade estava alta nesses dias:"
   ]
  },
  {
   "cell_type": "code",
   "execution_count": null,
   "metadata": {
    "scrolled": true
   },
   "outputs": [],
   "source": [
    "condicao = (temperatura[\"Dia\"] == 22) | (temperatura[\"Dia\"] == 24) | (temperatura[\"Dia\"] == 25)\n",
    "display(temperatura[condicao].groupby(\"Dia\").agg(\"mean\"))"
   ]
  },
  {
   "cell_type": "markdown",
   "metadata": {},
   "source": [
    "Agora vamos verificar o PIB per capita por estado brasileiro:"
   ]
  },
  {
   "cell_type": "code",
   "execution_count": null,
   "metadata": {
    "scrolled": false
   },
   "outputs": [],
   "source": [
    "pib_agrupado = pib.groupby(\"UF\").agg([\"max\", \"mean\", \"min\"])\n",
    "pib_agrupado.plot(y=\"PIB percapita\", kind=\"bar\", figsize=(10,5))"
   ]
  },
  {
   "cell_type": "markdown",
   "metadata": {},
   "source": [
    "Em qual estado você escolheria morar?"
   ]
  },
  {
   "cell_type": "markdown",
   "metadata": {},
   "source": [
    "Como o valor máximo de PIB per capita de alguns estados está muito acima do normal, vamos verificar só os estados que tenham esse valor abaixo de 80000:"
   ]
  },
  {
   "cell_type": "code",
   "execution_count": null,
   "metadata": {
    "scrolled": false
   },
   "outputs": [],
   "source": [
    "pib_agrupado = pib.groupby(\"UF\").agg([\"max\", \"mean\", \"min\"])\n",
    "condicao = pib_agrupado[\"PIB percapita\", \"max\"] < 80000\n",
    "pib_agrupado[condicao].plot(y=\"PIB percapita\", kind=\"bar\", figsize=(10,5))"
   ]
  },
  {
   "cell_type": "markdown",
   "metadata": {},
   "source": [
    "Vamos verificar a seguir a distribuição de população por estado brasileiro em 2009.\n",
    "\n",
    "Primeiro agrupamos os dados por estados e fazemos a soma dos valores para poder obter o total da população por estado.\n",
    "\n",
    "Em seguida aplicamos a função para plotar o histograma:"
   ]
  },
  {
   "cell_type": "code",
   "execution_count": null,
   "metadata": {
    "scrolled": false
   },
   "outputs": [],
   "source": [
    "pib.groupby(\"UF\").agg(\"sum\").hist(\"População (2009)\")"
   ]
  },
  {
   "cell_type": "markdown",
   "metadata": {},
   "source": [
    "Veja que apenas um estado tem população maior do que $3.5 \\times 10^7$. Deve ser São Paulo, certo?"
   ]
  },
  {
   "cell_type": "code",
   "execution_count": null,
   "metadata": {
    "scrolled": true
   },
   "outputs": [],
   "source": [
    "pib_agrupado = pib.groupby(\"UF\").agg(\"sum\")\n",
    "condicao = pib_agrupado[\"População (2009)\"] > 3.5 * 10**7\n",
    "display(pib_agrupado[condicao])"
   ]
  },
  {
   "cell_type": "markdown",
   "metadata": {},
   "source": [
    "E quais são os 5 estados que estão na segunda faixa?"
   ]
  },
  {
   "cell_type": "code",
   "execution_count": null,
   "metadata": {},
   "outputs": [],
   "source": [
    "pib_agrupado = pib.groupby(\"UF\").agg(\"sum\")\n",
    "condicao = (pib_agrupado[\"População (2009)\"] >= 0.4 * 10**7) & (pib_agrupado[\"População (2009)\"] <= 0.88 * 10**7)\n",
    "display(pib_agrupado[condicao])"
   ]
  },
  {
   "cell_type": "code",
   "execution_count": null,
   "metadata": {
    "scrolled": true
   },
   "outputs": [],
   "source": [
    "agua_agrupada = agua.groupby(\"Estado\").agg(\"sum\")\n",
    "agua_agrupada.plot(y=[\"Água em pelo menos um cômodo\", \"Água no terreno ou propriedade\", \"Não tinham\"],\n",
    "                   kind=\"bar\", stacked=True, figsize=(15,5))"
   ]
  },
  {
   "cell_type": "markdown",
   "metadata": {},
   "source": [
    "Vamos remover os estados do Sudeste da plotagem para visualizar os outros dados melhor:"
   ]
  },
  {
   "cell_type": "code",
   "execution_count": null,
   "metadata": {
    "scrolled": true
   },
   "outputs": [],
   "source": [
    "condicao = (agua[\"Estado\"] != \"São Paulo\") & (agua[\"Estado\"] != \"Rio de Janeiro\") & (agua[\"Estado\"] != \"Minas Gerais\") & (agua[\"Estado\"] != \"Espírito Santo\")\n",
    "agua_agrupada = agua[condicao].groupby(\"Estado\").agg(\"sum\")\n",
    "agua_agrupada.plot(y=[\"Água em pelo menos um cômodo\", \"Água no terreno ou propriedade\", \"Não tinham\"],\n",
    "                   kind=\"bar\", stacked=True, figsize=(15,5)).legend(bbox_to_anchor=(1.2, 1))"
   ]
  },
  {
   "cell_type": "markdown",
   "metadata": {},
   "source": [
    "Claramente, o Pará é o estado que possui mais residências sem água encanada dentre as residências visitadas pelo Censo."
   ]
  }
 ],
 "metadata": {
  "celltoolbar": "Raw Cell Format",
  "kernelspec": {
   "display_name": "Python 3",
   "language": "python",
   "name": "python3"
  },
  "language_info": {
   "codemirror_mode": {
    "name": "ipython",
    "version": 3
   },
   "file_extension": ".py",
   "mimetype": "text/x-python",
   "name": "python",
   "nbconvert_exporter": "python",
   "pygments_lexer": "ipython3",
   "version": "3.5.2"
  }
 },
 "nbformat": 4,
 "nbformat_minor": 1
}

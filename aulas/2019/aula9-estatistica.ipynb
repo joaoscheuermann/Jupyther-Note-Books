{
 "cells": [
  {
   "cell_type": "markdown",
   "metadata": {},
   "source": [
    "# Noções de estatística\n",
    "\n",
    "A Estatística é um ramo da Matemática que estuda como se pode usar uma **amostra** para tirar conclusões sobre um universo maior de objetos, levando em conta que sempre há **variação** e **incerteza** nas medidas consideradas.\n",
    "* **População**: todos os dados de interesse; representa o alvo da investigação\n",
    "* **Amostra**: um subconjunto da população; por meio de amostras se estabelecem ou se estimam as características da população\n",
    "* **Variação**: se o processo de gerar uma amostra é aleatório e gerarmos duas amostras distintas para estudar um mesmo processo, então provavelmente vamos obter dois resultados diferentes\n",
    "* **Incerteza**: não é possível verificar se o resultado obtido com a amostra é igual àquele que obteríamos com a população inteira\n",
    "\n",
    "A Estatística está presente na base de toda a ciência experimental, pois ela fornece diretrizes para a coleta de dados, nos permite comparar diferentes hipóteses e avaliar a precisão dos resultados que obtemos experimentalmente. \n",
    "\n",
    "A Estatística moderna emprega amplamente ferramentas computacionais.\n",
    "\n",
    "Hoje em dia, ferramentas de software de baixo custo ou mesmo gratuitas disponibilizam métodos sofisticados de\n",
    "análise estatística a qualquer um que tenha um computador pessoal.\n",
    "\n",
    "Ao mesmo tempo, avanços recentes da Computação tornaram viável a análise estatística de volumes gigantescos de dados, como aqueles produzidos por experimentos de bioinformática, física de alta energia ou por sites da Internet com grande número de usuários.\n",
    "\n",
    "A compreensão dos métodos estatísticos, de seus cenários de aplicação e limitações, bem como o domínio de ferramentas computacionais de análise, é fundamental para a prática da ciência."
   ]
  },
  {
   "cell_type": "markdown",
   "metadata": {},
   "source": [
    "## Conceitos básicos\n",
    "\n",
    "\n",
    "### Variáveis\n",
    "\n",
    "Uma vez determinada uma amostra, o passo seguinte de um estudo é a medição de certas características de interesse, que são chamadas de **variáveis**.\n",
    "\n",
    "Por exemplo, em um estudo sobre habitantes de uma cidade, as variáveis podem ser altura, sexo, cor do cabelo, cor\n",
    "dos olhos, idade, peso, expectativa de vida, preferência por um partido político, etc.\n",
    "\n",
    "### Análise estatística\n",
    "\n",
    "Após a coleta dos dados e quando as variáveis de interesse já foram medidas para todos os elementos da amostra, inicia-se a etapa de **análise estatística**, na qual existem basicamente duas áreas.\n",
    "\n",
    "Na **estatística descritiva** queremos apresentar, organizar e resumir numericamente os dados, o que pode ser feito por meio de gráficos, tabelas ou computando medidas como média, variância e etc. \n",
    "\n",
    "Por exemplo, é com estatística descritiva que obtemos informações sobre o número de acidentes nas rodovias\n",
    "federais no estado de São Paulo antes e depois da Lei Seca ou um gráfico com a distribuição da idade dos ingressantes nos bacharelados interdisciplinares da UFABC.\n",
    "\n",
    "Na **estatística indutiva** queremos realizar estimativas a partir da amostra ou testar hipóteses com os dados experimentais.\n",
    "\n",
    "Por exemplo, é com estatística indutiva que obtemos uma estimativa da porcentagem da população que votará para\n",
    "um/a determinado/a candidato/a à presidência, junto com uma margem de erro (\"intervalo de confiança\")."
   ]
  },
  {
   "cell_type": "markdown",
   "metadata": {},
   "source": [
    "## Análise estatística com Python/Pandas\n",
    "\n",
    "Os conceitos de estatística que aprenderemos nessa aula serão exemplificados usando Python e a biblioteca Pandas.\n",
    "\n",
    "Novamente, lembre-se de que tudo o que vamos fazer será *sobre as colunas* dos arquivos.\n",
    "\n",
    "Usaremos nessa aula as mesmas funções vistas na aula passada: `plot()`, `hist()`, `groupby()` e `agg()`.\n",
    "\n",
    "Para isso, vamos importar as devidas bibliotecas e abrir os arquivos com os quais iremos trabalhar:"
   ]
  },
  {
   "cell_type": "code",
   "execution_count": 1,
   "metadata": {},
   "outputs": [
    {
     "data": {
      "text/html": [
       "<div>\n",
       "<style scoped>\n",
       "    .dataframe tbody tr th:only-of-type {\n",
       "        vertical-align: middle;\n",
       "    }\n",
       "\n",
       "    .dataframe tbody tr th {\n",
       "        vertical-align: top;\n",
       "    }\n",
       "\n",
       "    .dataframe thead th {\n",
       "        text-align: right;\n",
       "    }\n",
       "</style>\n",
       "<table border=\"1\" class=\"dataframe\">\n",
       "  <thead>\n",
       "    <tr style=\"text-align: right;\">\n",
       "      <th></th>\n",
       "      <th>Estado</th>\n",
       "      <th>Município</th>\n",
       "      <th>Total pessoas &gt; 10 anos</th>\n",
       "      <th>Até 1 SM</th>\n",
       "      <th>De 1 a 2 SM</th>\n",
       "      <th>De 2 a 3 SM</th>\n",
       "      <th>De 3 a 5 SM</th>\n",
       "      <th>De 5 a 10 SM</th>\n",
       "      <th>De 10 a 20 SM</th>\n",
       "      <th>Mais de 20 SM</th>\n",
       "      <th>Sem rendimento</th>\n",
       "      <th>Código da Unidade Geográfica</th>\n",
       "    </tr>\n",
       "  </thead>\n",
       "  <tbody>\n",
       "    <tr>\n",
       "      <th>0</th>\n",
       "      <td>Rondônia</td>\n",
       "      <td>Ariquemes</td>\n",
       "      <td>74725</td>\n",
       "      <td>19934</td>\n",
       "      <td>17050</td>\n",
       "      <td>5436</td>\n",
       "      <td>4066</td>\n",
       "      <td>2656</td>\n",
       "      <td>604</td>\n",
       "      <td>377</td>\n",
       "      <td>24602</td>\n",
       "      <td>1.100023e+06</td>\n",
       "    </tr>\n",
       "    <tr>\n",
       "      <th>1</th>\n",
       "      <td>Rondônia</td>\n",
       "      <td>Área 001</td>\n",
       "      <td>14216</td>\n",
       "      <td>2333</td>\n",
       "      <td>2947</td>\n",
       "      <td>1565</td>\n",
       "      <td>1436</td>\n",
       "      <td>1020</td>\n",
       "      <td>316</td>\n",
       "      <td>152</td>\n",
       "      <td>4447</td>\n",
       "      <td>1.100023e+12</td>\n",
       "    </tr>\n",
       "    <tr>\n",
       "      <th>2</th>\n",
       "      <td>Rondônia</td>\n",
       "      <td>Área 002</td>\n",
       "      <td>14049</td>\n",
       "      <td>3872</td>\n",
       "      <td>3192</td>\n",
       "      <td>878</td>\n",
       "      <td>560</td>\n",
       "      <td>416</td>\n",
       "      <td>55</td>\n",
       "      <td>103</td>\n",
       "      <td>4973</td>\n",
       "      <td>1.100023e+12</td>\n",
       "    </tr>\n",
       "    <tr>\n",
       "      <th>3</th>\n",
       "      <td>Rondônia</td>\n",
       "      <td>Área 003</td>\n",
       "      <td>22833</td>\n",
       "      <td>7264</td>\n",
       "      <td>5284</td>\n",
       "      <td>1164</td>\n",
       "      <td>888</td>\n",
       "      <td>381</td>\n",
       "      <td>92</td>\n",
       "      <td>24</td>\n",
       "      <td>7736</td>\n",
       "      <td>1.100023e+12</td>\n",
       "    </tr>\n",
       "    <tr>\n",
       "      <th>4</th>\n",
       "      <td>Rondônia</td>\n",
       "      <td>Área 004</td>\n",
       "      <td>23627</td>\n",
       "      <td>6466</td>\n",
       "      <td>5626</td>\n",
       "      <td>1829</td>\n",
       "      <td>1182</td>\n",
       "      <td>838</td>\n",
       "      <td>141</td>\n",
       "      <td>98</td>\n",
       "      <td>7446</td>\n",
       "      <td>1.100023e+12</td>\n",
       "    </tr>\n",
       "  </tbody>\n",
       "</table>\n",
       "</div>"
      ],
      "text/plain": [
       "     Estado  Município  Total pessoas > 10 anos  Até 1 SM  De 1 a 2 SM  \\\n",
       "0  Rondônia  Ariquemes                    74725     19934        17050   \n",
       "1  Rondônia   Área 001                    14216      2333         2947   \n",
       "2  Rondônia   Área 002                    14049      3872         3192   \n",
       "3  Rondônia   Área 003                    22833      7264         5284   \n",
       "4  Rondônia   Área 004                    23627      6466         5626   \n",
       "\n",
       "   De 2 a 3 SM  De 3 a 5 SM  De 5 a 10 SM  De 10 a 20 SM  Mais de 20 SM  \\\n",
       "0         5436         4066          2656            604            377   \n",
       "1         1565         1436          1020            316            152   \n",
       "2          878          560           416             55            103   \n",
       "3         1164          888           381             92             24   \n",
       "4         1829         1182           838            141             98   \n",
       "\n",
       "   Sem rendimento  Código da Unidade Geográfica  \n",
       "0           24602                  1.100023e+06  \n",
       "1            4447                  1.100023e+12  \n",
       "2            4973                  1.100023e+12  \n",
       "3            7736                  1.100023e+12  \n",
       "4            7446                  1.100023e+12  "
      ]
     },
     "execution_count": 1,
     "metadata": {},
     "output_type": "execute_result"
    }
   ],
   "source": [
    "import pandas as pd\n",
    "from IPython.display import display\n",
    "%matplotlib inline\n",
    "\n",
    "notas = pd.read_csv(\"notas.csv\", sep=\";\")\n",
    "temperatura = pd.read_csv(\"temperatura-SA.csv\", sep=\";\")\n",
    "renda = pd.read_csv(\"renda.csv\", sep=\";\")\n",
    "agua = pd.read_csv(\"agua.csv\", sep=\";\")\n",
    "\n",
    "renda.head()"
   ]
  },
  {
   "cell_type": "markdown",
   "metadata": {},
   "source": [
    "## Distribuição de frequências\n",
    "\n",
    "Para que seja mais fácil entender os dados brutos (da forma como são coletados) pode-se construir uma distribuição de frequências.\n",
    "\n",
    "Este processo determina o número de indivíduos que pertencem a cada categoria originada ao se classificar uma população de acordo com os itens requeridos no levantamento.\n",
    "\n",
    "Por exemplo, vamos criar uma tabela com a quantidade de alunos em cada conceito final:"
   ]
  },
  {
   "cell_type": "code",
   "execution_count": null,
   "metadata": {},
   "outputs": [],
   "source": [
    "notas.groupby(\"Conceito final\").agg(\"count\")"
   ]
  },
  {
   "cell_type": "markdown",
   "metadata": {},
   "source": [
    "Podemos também criar um gráfico de barras para melhor visualizar essa informação:"
   ]
  },
  {
   "cell_type": "code",
   "execution_count": null,
   "metadata": {},
   "outputs": [],
   "source": [
    "notas.groupby(\"Conceito final\").agg(\"count\").plot(y=\"Aluno\", kind=\"bar\")"
   ]
  },
  {
   "cell_type": "markdown",
   "metadata": {},
   "source": [
    "Note que o que estamos querendo mostrar no gráfico acima poderia também muito bem ser representado por meio de um **histograma**, como vimos na aula passada.\n",
    "\n",
    "Só não é possível criar um histograma usando a coluna \"Conceito final\" (isto é, o comando notas.hist(\"Conceito final\") vai dar erro) porque o conteúdo dessa coluna não é numérico (requerido pelo Pandas).\n",
    "\n",
    "Consigo pensar em duas alternativas, se você quiser criar um histograma dos conceitos finais ao invés do gráfico. Uma é criar uma nova coluna onde os conceitos A, B, C, D, F, são substituídos pelos números 1, 2, 3, 4, 5 ou então gerar um histograma baseado na coluna de nota final mesmo:"
   ]
  },
  {
   "cell_type": "code",
   "execution_count": null,
   "metadata": {
    "scrolled": true
   },
   "outputs": [],
   "source": [
    "notas.hist(\"Nota Final\")"
   ]
  },
  {
   "cell_type": "markdown",
   "metadata": {},
   "source": [
    "Podemos visualizar a distribuição da renda no estado do Paraná.\n",
    "\n",
    "Na tabela \"renda\", a coluna \"Total pessoas > 10 anos\" é a soma das outras colunas e, portanto, não faz sentido utilizá-la na plotagem do gráfico.\n",
    "\n",
    "Também não faz sentido usar a coluna \"Código da Unidade Geográfica\"."
   ]
  },
  {
   "cell_type": "code",
   "execution_count": null,
   "metadata": {},
   "outputs": [],
   "source": [
    "condicao = renda[\"Estado\"] == \"Paraná\"\n",
    "renda_parana = renda[condicao].agg(\"mean\")\n",
    "colunas = [\"Até 1 SM\", \"De 1 a 2 SM\", \"De 2 a 3 SM\", \"De 3 a 5 SM\", \"De 5 a 10 SM\",\n",
    "           \"De 10 a 20 SM\", \"Mais de 20 SM\", \"Sem rendimento\"]\n",
    "renda_parana[colunas].plot(kind='bar')"
   ]
  },
  {
   "cell_type": "markdown",
   "metadata": {},
   "source": [
    "## Medidas de tendência central\n",
    "\n",
    "É conveniente dispor de medidas que informem sobre a amostra de maneira mais resumida do que os dados brutos são capazes de fazer.\n",
    "\n",
    "As medidas de tendência central cumprem este papel, dando o valor do ponto em torno do qual os dados se distribuem.\n",
    "\n",
    "São medidas de tendência central, por exemplo, a média, a mediana e a moda."
   ]
  },
  {
   "cell_type": "markdown",
   "metadata": {},
   "source": [
    "### Média (mean)\n",
    "\n",
    "A média é definida como a soma de todos os valores de um conjunto, dividida pelo número de elementos do conjunto:\n",
    "$$\\bar{x} = \\frac{\\displaystyle\\sum_{i=1}^n x_i}{n}$$\n",
    "\n",
    "Por exemplo, a média do conjunto $\\{2,6,1,4,8,97,3\\}$ é $(2+6+1+4+8+97+3)/7 = 17.285714286$."
   ]
  },
  {
   "cell_type": "markdown",
   "metadata": {},
   "source": [
    "Podemos facilmente calcular a temperatura média no dia 15 de julho em Santo André:"
   ]
  },
  {
   "cell_type": "code",
   "execution_count": null,
   "metadata": {},
   "outputs": [],
   "source": [
    "condicao = temperatura[\"Dia\"] == 15\n",
    "media = temperatura[condicao].agg(\"mean\")[\"Temperatura\"]\n",
    "print(\"A temperatura média no dia 15 de julho em Santo André foi de\", media, \"graus.\")"
   ]
  },
  {
   "cell_type": "markdown",
   "metadata": {},
   "source": [
    "Ou verificar a nota final média dos alunos em cada conceito:"
   ]
  },
  {
   "cell_type": "code",
   "execution_count": null,
   "metadata": {},
   "outputs": [],
   "source": [
    "notas.groupby(\"Conceito final\").agg(\"mean\").plot(y=\"Nota Final\", kind=\"barh\")"
   ]
  },
  {
   "cell_type": "code",
   "execution_count": null,
   "metadata": {
    "scrolled": true
   },
   "outputs": [],
   "source": [
    "mediaA = notas.groupby(\"Conceito final\").agg(\"mean\")[\"Nota Final\"][\"A\"]\n",
    "mediaF = notas.groupby(\"Conceito final\").agg(\"mean\")[\"Nota Final\"][\"F\"]\n",
    "\n",
    "print(\"A média da nota final de quem ficou com conceito A foi\", mediaA)\n",
    "print(\"A média da nota final de quem ficou com conceito F foi\", mediaF)"
   ]
  },
  {
   "cell_type": "markdown",
   "metadata": {},
   "source": [
    "### Mediana (median)\n",
    "\n",
    "A mediana é o valor central de um conjunto, que divide a distribuição em duas partes iguais (mesmo número de exemplos abaixo e acima do valor da mediana).\n",
    "\n",
    "Para calcular a mediana, devemos ordenar os dados.\n",
    "\n",
    "Num conjunto de $n$ elementos, a mediana é definida da seguinte forma:\n",
    "* se $n$ é ímpar, a mediana é o elemento $x_i$, onde $i = (n + 1)/2$\n",
    "* se $n$ é par, a mediana é o valor $(x_i + x_{i+1})/2$, onde $i = n/2$ (a média dos dois valores centrais)\n",
    "\n",
    "Por exemplo, a mediana do conjunto $\\{2,6,1,4,8,97,3\\} = \\{1,2,3,4,6,8,97\\}$ é $4$ (elemento central) enquanto que a mediana do conjunto $\\{2,6,1,4,97,3\\} = \\{1,2,3,4,6,97\\}$ é $3.5$ (média dos elementos centrais).\n",
    "\n",
    "A vantagem da mediana em relação à média é que a mediana pode dar uma ideia melhor de um valor típico porque não é tão distorcida por valores extremamente altos ou baixos, chamados de **outliers** (veja o exemplo do conjunto acima, que tem média aproximadamente 17 e mediana 4)."
   ]
  },
  {
   "cell_type": "markdown",
   "metadata": {},
   "source": [
    "Podemos calcular a mediana das notas de cada atividade dos alunos que ficaram com o mesmo conceito final:"
   ]
  },
  {
   "cell_type": "code",
   "execution_count": null,
   "metadata": {},
   "outputs": [],
   "source": [
    "display(notas.groupby(\"Conceito final\").agg(\"median\"))"
   ]
  },
  {
   "cell_type": "markdown",
   "metadata": {},
   "source": [
    "Para efeitos de comparação, vamos calcular também a média das notas:"
   ]
  },
  {
   "cell_type": "code",
   "execution_count": null,
   "metadata": {},
   "outputs": [],
   "source": [
    "display(notas.groupby(\"Conceito final\").agg([\"median\", \"mean\"]))"
   ]
  },
  {
   "cell_type": "markdown",
   "metadata": {},
   "source": [
    "### Moda (mode)\n",
    "\n",
    "A moda é definida como a categoria que ocorre com maior frequência em um conjunto de dados. \n",
    "\n",
    "Por exemplo, a moda do conjunto $\\{2,5,4,5,7,8,3,6\\}$ é o elemento 5."
   ]
  },
  {
   "cell_type": "markdown",
   "metadata": {},
   "source": [
    "Podemos verificar que as temperaturas mais comuns entre os dias 14 e 28 de julho de 2018 são 13.58 e 15.67 graus:"
   ]
  },
  {
   "cell_type": "code",
   "execution_count": null,
   "metadata": {
    "scrolled": true
   },
   "outputs": [],
   "source": [
    "print(temperatura[\"Temperatura\"].agg(\"mode\"))"
   ]
  },
  {
   "cell_type": "markdown",
   "metadata": {},
   "source": [
    "Veja que no histograma abaixo também podemos observar que a temperatura mais comum desses dias está próxima de 14 graus e vai até próximo de 16 graus (coluna mais alta):"
   ]
  },
  {
   "cell_type": "code",
   "execution_count": null,
   "metadata": {},
   "outputs": [],
   "source": [
    "temperatura.hist(\"Temperatura\")"
   ]
  },
  {
   "cell_type": "markdown",
   "metadata": {},
   "source": [
    "## Medidas de dispersão\n",
    "\n",
    "Como já mencionamos antes, o processo de trabalhar com amostras introduz uma variabilidade dos resultados obtidos, pois cada amostra vai ter características ligeiramente diferentes.\n",
    "\n",
    "Essa variabilidade afeta nosso *grau de confiança* nos resultados.\n",
    "\n",
    "Por isso, as medidas de variabilidade (ou dispersão) têm papel central na Estatística, pois são elas que permitem\n",
    "avaliar a precisão das conclusões que obtemos a partir dos dados experimentais.\n",
    "\n",
    "São medidas de dispersão a variância e o desvio-padrão."
   ]
  },
  {
   "cell_type": "markdown",
   "metadata": {},
   "source": [
    "### Variância (var)\n",
    "\n",
    "Um indicador de variabilidade que surge naturalmente é a diferença entre cada ponto da amostra e a média da amostra, o que é chamado de **desvio**.\n",
    "\n",
    "Por exemplo, no conjunto $\\{2,6,1,4,8,97,3\\}$, cuja média é aproximadamente $\\bar{x} = 17.3$, o desvio do elemento $2$ é $2-17.3 = -15.3$, do elemento $6$ é $6-17.3=-11,3$ e do elemento $97$ é $97-17.3 = 79.7$.\n",
    "\n",
    "À primeira vista, poderíamos somar todas essas diferenças e obter uma estimativa da variação dos dados em torno\n",
    "da média.\n",
    "\n",
    "O problema é que alguns pontos estão acima da média enquanto outros estão abaixo dela, logo algumas diferenças são positivas enquanto outras são negativas.\n",
    "\n",
    "Quando somadas, os valores com sinais diferentes compensam uns aos outros e o resultado final é nulo.\n",
    "\n",
    "Isso sugere a ideia de elevar as diferenças ao quadrado antes de somar.\n",
    "\n",
    "A variância de um conjunto de dados é, portanto, a \"média\" dos quadrados dos desvios:\n",
    "$$\\sigma^2 = \\frac{\\displaystyle \\sum_{i=1}^n (x_i - \\bar{x})^2}{n-1}$$\n",
    "\n",
    "Por exemplo, a variância do conjunto $\\{2,6,1,4,8,97,3\\}$ de 7 elementos mencionado acima é \n",
    "$$\\frac{(2-17.3)^2 + (6-17.3)^2 + (1-17.3)^2 + (4-17.3)^2 + (8-17.3)^2 + (97-17.3)^2 + (3-17.3)^2}{6} = 1241.238333333$$\n",
    "\n",
    "A variância é uma medida da nossa desconfiança com relação aos resultados.\n",
    "\n",
    "Assim, quanto maior a variância, maior a variabilidade dos dados e menor a nossa confiança no resultado obtido.\n",
    "\n",
    "Veja que no exemplo acima 6 dos valores são pequenos (1,2,3,4,6,8) enquanto que o sétimo é muito maior do que eles (97) e, com isso, a variância do conjunto todo é bem alta.\n",
    "\n",
    "A variância do conjunto $\\{1,2,3,4,6,8\\}$ é $6.8$, bem menor."
   ]
  },
  {
   "cell_type": "markdown",
   "metadata": {},
   "source": [
    "Podemos calcular facilmente a variância das notas de todos os alunos:"
   ]
  },
  {
   "cell_type": "code",
   "execution_count": null,
   "metadata": {},
   "outputs": [],
   "source": [
    "display(notas.agg(\"var\"))"
   ]
  },
  {
   "cell_type": "markdown",
   "metadata": {},
   "source": [
    "A notação e+X significa $10^X$.\n",
    "\n",
    "Para fins de comparação, vamos ver as outras medidas também:"
   ]
  },
  {
   "cell_type": "code",
   "execution_count": null,
   "metadata": {
    "scrolled": true
   },
   "outputs": [],
   "source": [
    "display(notas.agg([\"mean\", \"median\", \"var\"]))"
   ]
  },
  {
   "cell_type": "markdown",
   "metadata": {},
   "source": [
    "### Desvio padrão (std)\n",
    "\n",
    "A variância tem a desvantagem, por causa do efeito de elevar ao quadrado, de não estar na mesma escala de unidades que a variável medida.\n",
    "\n",
    "Por exemplo, se estudamos variabilidade da altura em uma amostra, a variável é avaliada em $m$ (metro) enquanto a variância é avaliada em $m^2$ (metro ao quadrado).\n",
    "\n",
    "Para facilitar a análise da variabilidade da medida, usamos a raiz quadrada da variância, denominada desvio padrão amostral:\n",
    "$$\\sigma = \\sqrt{\\sigma^2} = \\sqrt{\\frac{\\displaystyle \\sum_{i=1}^n (x_i - \\bar{x})^2}{n-1}}$$\n",
    "\n",
    "Por exemplo, o desvio padrão do conjunto $\\{2,6,1,4,8,97,3\\}$ mencionado antes é $\\sqrt{1241.238333333} = 35.231212487$ enquanto que o desvio padrão do conjunto $\\{1,2,3,4,6,8\\}$ é $\\sqrt{6.8} = 2.607680962$ (note que agora os valores estão mais próximos dos valores que pertencem aos conjuntos)."
   ]
  },
  {
   "cell_type": "markdown",
   "metadata": {},
   "source": [
    "Podemos calcular o desvio padrão das notas dos alunos:"
   ]
  },
  {
   "cell_type": "code",
   "execution_count": null,
   "metadata": {
    "scrolled": true
   },
   "outputs": [],
   "source": [
    "display(notas.agg(\"std\"))"
   ]
  },
  {
   "cell_type": "markdown",
   "metadata": {},
   "source": [
    "Com as outras medidas, considerando apenas as colunas das quais faz sentido calcular as medidas (por exemplo, não faz sentido tirar a média da coluna \"RA\"):"
   ]
  },
  {
   "cell_type": "code",
   "execution_count": null,
   "metadata": {},
   "outputs": [],
   "source": [
    "colunas = [\"Prova 1\", \"Prova 2\", \"Provas\", \"Listas\", \"Exame\", \"Nota antes do Exame\", \"Nota Final\"]\n",
    "display(notas[colunas].agg([\"min\", \"mean\", \"median\", \"max\", \"var\", \"std\"]))"
   ]
  },
  {
   "cell_type": "markdown",
   "metadata": {},
   "source": [
    "## Específico do Pandas: comando describe\n",
    "\n",
    "O Pandas oferece um comando que mostra várias das medidas de uma vez, e já removendo colunas que possuem textos, sobre as quais não faz sentido calculá-las:"
   ]
  },
  {
   "cell_type": "code",
   "execution_count": null,
   "metadata": {},
   "outputs": [],
   "source": [
    "# descrição sobre todas as linhas da tabela notas:\n",
    "display(notas.describe())"
   ]
  },
  {
   "cell_type": "code",
   "execution_count": null,
   "metadata": {},
   "outputs": [],
   "source": [
    "# descrição sobre as linhas onde o estado é o Rio de Janeiro na tabela renda:\n",
    "condicao = renda[\"Estado\"] == \"Rio de Janeiro\"\n",
    "display(renda[condicao].describe())"
   ]
  },
  {
   "cell_type": "markdown",
   "metadata": {},
   "source": [
    "* **count**: conta a quantidade de linhas envolvidas\n",
    "* **mean**: calcula a média dos elementos da coluna\n",
    "* **std**: calcula o desvio padrão dos elementos da coluna\n",
    "* **min**: menor elemento da coluna (0% dos elementos são menores do que ele)\n",
    "* **25%**: primeiro quartil da coluna (25% dos elementos são menores do que ele)\n",
    "* **50%**: segundo quartil da coluna, equivalente à mediana (50% dos elementos são menores do que ele)\n",
    "* **75%**: terceiro quartil da coluna (75% dos elementos são menores do que ele)\n",
    "* **max**: maior elemento da coluna (100% dos elementos são menores do que ele)"
   ]
  },
  {
   "cell_type": "markdown",
   "metadata": {},
   "source": [
    "### Boxplot\n",
    "\n",
    "O boxplot é um gráfico que mostra, de uma vez só, o mínimo, primeiro, segundo e terceiro quartis, e o máximo de um conjunto de dados. \n",
    "\n",
    "Ele também mostra os **outliers** do conjunto (discrepantes, valores que são extremamente mais altos ou mais baixos do que o resto).\n",
    "\n",
    "<img width=40% src=\"https://upload.wikimedia.org/wikipedia/commons/c/c9/Elements_of_a_boxplot_pt.svg\">\n"
   ]
  },
  {
   "cell_type": "markdown",
   "metadata": {},
   "source": [
    "O Pandas oferece a função `boxplot()`, que espera receber a coluna ou lista de colunas que armazenam os valores e também espera receber o parâmetro `by=\"coluna\"`: um boxplot vai ser feito para cada valor diferente que estiver nessa coluna.\n",
    "\n",
    "Por exemplo, vamos observar a distribuição da população dos estados brasileiros, com base no número de pessoas com mais de 10 anos que foram entrevistadas pelo Censo 2010 (isto é, uma amostra da população).\n",
    "\n",
    "Os valores que queremos observar estão na coluna \"Total pessoas > 10 anos\", que tem o total de pessoas entrevistadas em cada cidade.\n",
    "\n",
    "Como queremos saber a distribuição em cada estado, o parâmetro `by=` vai receber a coluna \"Estado\". Assim, haverá um boxplot para cada estado:"
   ]
  },
  {
   "cell_type": "code",
   "execution_count": 2,
   "metadata": {},
   "outputs": [
    {
     "data": {
      "text/plain": [
       "<matplotlib.axes._subplots.AxesSubplot at 0x7f917a2b6940>"
      ]
     },
     "execution_count": 2,
     "metadata": {},
     "output_type": "execute_result"
    },
    {
     "data": {
      "image/png": "[encoded data removed]",
      "text/plain": [
       "<matplotlib.figure.Figure at 0x7f91a06b0860>"
      ]
     },
     "metadata": {},
     "output_type": "display_data"
    }
   ],
   "source": [
    "# o parâmetro rot=90 está indicando que a legenda está rotacionada 90 graus, para podermos ler melhor os nomes:\n",
    "renda.boxplot(\"Total pessoas > 10 anos\", by=\"Estado\", figsize=(15,5), rot=90)"
   ]
  },
  {
   "cell_type": "markdown",
   "metadata": {},
   "source": [
    "A única coisa que dá para enxergar no gráfico acima é que o boxplot referente a São Paulo tem um outlier (sinal +) bem acima de todos os outros (não surpreendentemente, São Paulo possui a maior população do país e a cidade de São Paulo tem uma população muito maior do que a população das outras cidades dentro do próprio estado).\n",
    "\n",
    "Vamos visualizar apenas os estados do sul do Brasil:"
   ]
  },
  {
   "cell_type": "code",
   "execution_count": null,
   "metadata": {},
   "outputs": [],
   "source": [
    "condicao = (renda[\"Estado\"] == \"Paraná\") | (renda[\"Estado\"] == \"Santa Catarina\") | (renda[\"Estado\"] == \"Rio Grande do Sul\")\n",
    "renda[condicao].boxplot(\"Total pessoas > 10 anos\", by=\"Estado\", figsize=(15,15), rot=90)"
   ]
  },
  {
   "cell_type": "markdown",
   "metadata": {},
   "source": [
    "Veja que infelizmente os outliers estão nos impedindo de enxergar o restante do gráfico.\n",
    "\n",
    "Eles são importantes: podemos ver, no Paraná, por exemplo, que tem uma cidade que tem mais de 1 milhão e meio de habitantes que foram entrevistados (provavelmente Curitiba):"
   ]
  },
  {
   "cell_type": "code",
   "execution_count": null,
   "metadata": {},
   "outputs": [],
   "source": [
    "condicao = renda[\"Município\"] == \"Curitiba\"\n",
    "display(renda[condicao])"
   ]
  },
  {
   "cell_type": "markdown",
   "metadata": {},
   "source": [
    "Mas o ponto é que a grande maioria das cidades do Paraná tiveram menos de 50000 habitantes entrevistados pelo censo (como podemos ver acima). \n",
    "\n",
    "Podemos usar a opção `showfliers=False` para omitir os outliers do boxplot:"
   ]
  },
  {
   "cell_type": "code",
   "execution_count": null,
   "metadata": {
    "scrolled": true
   },
   "outputs": [],
   "source": [
    "condicao = (renda[\"Estado\"] == \"Paraná\") | (renda[\"Estado\"] == \"Santa Catarina\") | (renda[\"Estado\"] == \"Rio Grande do Sul\")\n",
    "renda[condicao].boxplot(\"Total pessoas > 10 anos\", by=\"Estado\", rot=90, showfliers=False)"
   ]
  },
  {
   "cell_type": "markdown",
   "metadata": {},
   "source": [
    "Veja que os dados utilizados para gerar o boxplot acima são os mesmos que aparecem no comando `describe()` que vimos anteriormente:"
   ]
  },
  {
   "cell_type": "code",
   "execution_count": null,
   "metadata": {},
   "outputs": [],
   "source": [
    "condicao = (renda[\"Estado\"] == \"Paraná\") | (renda[\"Estado\"] == \"Santa Catarina\") | (renda[\"Estado\"] == \"Rio Grande do Sul\")\n",
    "renda_agrupada = renda[condicao].groupby(\"Estado\")\n",
    "# em renda_agrupada queremos observar apenas a coluna que tem o número de pessoas:\n",
    "display(renda_agrupada[\"Total pessoas > 10 anos\"].describe())"
   ]
  },
  {
   "cell_type": "markdown",
   "metadata": {},
   "source": [
    "Ou seja, podemos utilizar o comando `describe()` se quisermos saber os valores com exatidão e podemos utilizar o gráfico para ter uma ideia mais visual."
   ]
  },
  {
   "cell_type": "markdown",
   "metadata": {},
   "source": [
    "## Correlação e Regressão\n",
    "\n",
    "O foco das técnicas de correlação e regressão é a análise de dados amostrais visando descobrir como duas ou mais variáveis estão relacionadas uma com a outra.\n",
    "\n",
    "A análise de **correlação** tem como resultado **um número**, que expressa o grau de relacionamento entre duas variáveis.\n",
    "\n",
    "A análise de **regressão** expressa o resultado em **uma equação matemática**, descrevendo o relacionamento das variáveis."
   ]
  },
  {
   "cell_type": "markdown",
   "metadata": {},
   "source": [
    "Construir o gráfico de dispersão das variáveis é, usualmente, o primeiro passo em uma análise de correlação.\n",
    "\n",
    "Nesse tipo de gráfico, simplesmente representamos os valores das duas variáveis como pares de coordenadas no plano,  para todos os exemplos da amostra.\n",
    "\n",
    "Por exemplo, o gráfico a seguir é de dispersão em que o eixo $x$ representa horas de treinamento numa linha de produção de automóveis e o eixo $y$ representa o número de acidentes na fábrica.\n",
    "\n",
    "<img width=50% src=\"http://professor.ufabc.edu.br/~carla.negri/cursos/2018Q2-BCC/images/corr-neg.png\">\n",
    "\n",
    "O gráfico mostra existência de correlação negativa, pois, à medida que $x$ cresce, $y$ decresce.\n",
    "\n",
    "O gráfico mostra que a empresa, ao investir em treinamento, reduz o número de acidentes na fábrica.\n",
    "\n",
    "No gráfico a seguir, o eixo $x$ representa a renda média da população e o eixo $y$ representa o consumo de bens duráveis em milhões/ano.\n",
    "\n",
    "<img width=50% src=\"http://professor.ufabc.edu.br/~carla.negri/cursos/2018Q2-BCC/images/corr-pos.png\">\n",
    "\n",
    "A análise mostra que há correlação positiva, pois, à medida que $x$ cresce, $y$ também cresce.\n",
    "\n",
    "O gráfico mostra que, com o aumento médio da renda da população (maior poder aquisitivo), o consumo de bens duráveis aumenta.\n",
    "\n",
    "No gráfico a seguir, o peso de uma pessoa é representado no eixo $x$ enquanto seu Q.I. (Quociente de Inteligência) é representado no eixo $y$.\n",
    "\n",
    "<img width=50% src=\"http://professor.ufabc.edu.br/~carla.negri/cursos/2018Q2-BCC/images/corr-nao.png\">\n",
    "\n",
    "Não há correlação alguma; o gráfico mostra que não existe evidência de alguma relação entre o peso de uma pessoa com seu Q.I.\n",
    "\n",
    "Além da correlação linear, em que a relação entre as duas variáveis é expressa adequadamente por uma reta, podemos encontrar também correlação não-linear entre as variáveis.\n",
    "\n",
    "Nesse caso, apesar de existir uma relação clara entre as variáveis, esta não pode ser modelada por uma reta, como no exemplo a seguir.\n",
    "\n",
    "<img width=50% src=\"http://professor.ufabc.edu.br/~carla.negri/cursos/2018Q2-BCC/images/corr-nao-linear.png\">\n"
   ]
  },
  {
   "cell_type": "markdown",
   "metadata": {},
   "source": [
    "O Pandas oferece, na função `plot()` que já vimos, a opção `kind=\"scatter\"`, que vai gerar um gráfico de dispersão.\n",
    "\n",
    "Ela espera receber uma coluna para cada opção `x=` e `y=`, indicando quais dados serão comparados.\n",
    "\n",
    "Vejamos um exemplo a seguir, comparando a temperatura com a nebulosidade em Santo André:"
   ]
  },
  {
   "cell_type": "code",
   "execution_count": null,
   "metadata": {
    "scrolled": true
   },
   "outputs": [],
   "source": [
    "temperatura.plot(x=\"Temperatura\", y=\"Nebulosidade total (%)\", kind=\"scatter\")"
   ]
  },
  {
   "cell_type": "markdown",
   "metadata": {},
   "source": [
    "De onde vemos que não há relação entre essas variáveis.\n"
   ]
  },
  {
   "cell_type": "markdown",
   "metadata": {},
   "source": [
    "No exemplo a seguir, vamos comparar a média das listas dos alunos com a sua nota final."
   ]
  },
  {
   "cell_type": "code",
   "execution_count": null,
   "metadata": {
    "scrolled": true
   },
   "outputs": [],
   "source": [
    "notas.plot(x=\"Listas\", y=\"Nota Final\", kind=\"scatter\")"
   ]
  },
  {
   "cell_type": "markdown",
   "metadata": {},
   "source": [
    "Vemos que há uma pequena correlação positiva entre essas variáveis: quanto maior a nota que o aluno tirou nas listas, maior sua nota final."
   ]
  },
  {
   "cell_type": "markdown",
   "metadata": {},
   "source": [
    "No nosso exemplo final, vamos verificar se há correlação entre a renda de uma pessoa e o fato de sua casa ter água encanada ou não.\n",
    "\n",
    "Como o Pandas precisa que os dados estejam na mesma tabela, e as informações estão em tabelas diferentes, vamos uni-las para poder fazer o gráfico.\n",
    "\n",
    "Visto que ambas as tabelas possuem informações sobre cada cidade brasileira, não é tão complicado fazer a união das mesmas:"
   ]
  },
  {
   "cell_type": "code",
   "execution_count": null,
   "metadata": {},
   "outputs": [],
   "source": [
    "tabela_nova = pd.merge(renda, agua)\n",
    "display(tabela_nova.head())"
   ]
  },
  {
   "cell_type": "markdown",
   "metadata": {},
   "source": [
    "Veja como a união foi feita corretamente: colunas iguais foram completamente unidas.\n",
    "\n",
    "Agora sim, podemos verificar se há alguma correlação entre os dados:"
   ]
  },
  {
   "cell_type": "code",
   "execution_count": null,
   "metadata": {},
   "outputs": [],
   "source": [
    "tabela_nova.plot(x=\"Sem rendimento\", y=\"Não tinham\", kind=\"scatter\")"
   ]
  },
  {
   "cell_type": "markdown",
   "metadata": {},
   "source": [
    "Não parece haver relação entre pessoas que não têm rendimento e o fato de não haver água encanada nas casas.\n",
    "\n",
    "Vamos ver o outro extremo desses dados: pessoas que têm rendimento maior do que 20 salários mínimos e o fato de haver água encanada:"
   ]
  },
  {
   "cell_type": "code",
   "execution_count": null,
   "metadata": {},
   "outputs": [],
   "source": [
    "tabela_nova.plot(x=\"Mais de 20 SM\", y=\"Água em pelo menos um cômodo\", kind=\"scatter\")"
   ]
  },
  {
   "cell_type": "markdown",
   "metadata": {},
   "source": [
    "Agora começou a aparecer uma correlação linear positiva."
   ]
  },
  {
   "cell_type": "markdown",
   "metadata": {},
   "source": [
    "Com esses exemplos, podemos ver que utilizar apenas o gráfico de dispersão para interpretar a existência de uma correlação pode ser uma tarefa bastante subjetiva.\n",
    "\n",
    "Como medida mais objetiva, utiliza-se medir o grau e o tipo de uma correlação linear entre duas variáveis por meio do cálculo do **coeficiente de correlação**.\n",
    "\n",
    "O intervalo de variação do coeficiente de correlação $r$ está entre -1 e 1:\n",
    "* Valor de $r$ próximo a 1: as variáveis têm forte correlação linear positiva\n",
    "* Valor de $r$ próximo a -1: as variáveis têm forte correlação linear negativa\n",
    "* Valor de $r$ próximo de zero: ou não existe ou existe pouca correlação linear entre as variáveis\n",
    "\n",
    "Existe uma fórmula para calcular esse coeficiente, mas ela não é nada bonita e muito menos prática de se fazer \"à mão\".\n",
    "\n",
    "O Pandas oferece a função `corr()` para calcular esse coeficiente.\n",
    "\n",
    "Essa função é aplicada na tabela toda, e faz comparação par a par das colunas.\n",
    "\n",
    "Vejamos o seu resultado nos exemplos anteriores."
   ]
  },
  {
   "cell_type": "code",
   "execution_count": 6,
   "metadata": {},
   "outputs": [
    {
     "data": {
      "text/html": [
       "<div>\n",
       "<style scoped>\n",
       "    .dataframe tbody tr th:only-of-type {\n",
       "        vertical-align: middle;\n",
       "    }\n",
       "\n",
       "    .dataframe tbody tr th {\n",
       "        vertical-align: top;\n",
       "    }\n",
       "\n",
       "    .dataframe thead th {\n",
       "        text-align: right;\n",
       "    }\n",
       "</style>\n",
       "<table border=\"1\" class=\"dataframe\">\n",
       "  <thead>\n",
       "    <tr style=\"text-align: right;\">\n",
       "      <th></th>\n",
       "      <th>Ano</th>\n",
       "      <th>Mês</th>\n",
       "      <th>Dia</th>\n",
       "      <th>Hora</th>\n",
       "      <th>Minuto</th>\n",
       "      <th>Temperatura</th>\n",
       "      <th>Total precipitação (mm)</th>\n",
       "      <th>Nebulosidade total (%)</th>\n",
       "      <th>Duração do sol (min)</th>\n",
       "    </tr>\n",
       "  </thead>\n",
       "  <tbody>\n",
       "    <tr>\n",
       "      <th>Ano</th>\n",
       "      <td>NaN</td>\n",
       "      <td>NaN</td>\n",
       "      <td>NaN</td>\n",
       "      <td>NaN</td>\n",
       "      <td>NaN</td>\n",
       "      <td>NaN</td>\n",
       "      <td>NaN</td>\n",
       "      <td>NaN</td>\n",
       "      <td>NaN</td>\n",
       "    </tr>\n",
       "    <tr>\n",
       "      <th>Mês</th>\n",
       "      <td>NaN</td>\n",
       "      <td>NaN</td>\n",
       "      <td>NaN</td>\n",
       "      <td>NaN</td>\n",
       "      <td>NaN</td>\n",
       "      <td>NaN</td>\n",
       "      <td>NaN</td>\n",
       "      <td>NaN</td>\n",
       "      <td>NaN</td>\n",
       "    </tr>\n",
       "    <tr>\n",
       "      <th>Dia</th>\n",
       "      <td>NaN</td>\n",
       "      <td>NaN</td>\n",
       "      <td>1.000000</td>\n",
       "      <td>0.000000</td>\n",
       "      <td>NaN</td>\n",
       "      <td>-0.191331</td>\n",
       "      <td>0.127713</td>\n",
       "      <td>0.446908</td>\n",
       "      <td>-0.175475</td>\n",
       "    </tr>\n",
       "    <tr>\n",
       "      <th>Hora</th>\n",
       "      <td>NaN</td>\n",
       "      <td>NaN</td>\n",
       "      <td>0.000000</td>\n",
       "      <td>1.000000</td>\n",
       "      <td>NaN</td>\n",
       "      <td>0.414834</td>\n",
       "      <td>0.079712</td>\n",
       "      <td>-0.021967</td>\n",
       "      <td>0.120280</td>\n",
       "    </tr>\n",
       "    <tr>\n",
       "      <th>Minuto</th>\n",
       "      <td>NaN</td>\n",
       "      <td>NaN</td>\n",
       "      <td>NaN</td>\n",
       "      <td>NaN</td>\n",
       "      <td>NaN</td>\n",
       "      <td>NaN</td>\n",
       "      <td>NaN</td>\n",
       "      <td>NaN</td>\n",
       "      <td>NaN</td>\n",
       "    </tr>\n",
       "    <tr>\n",
       "      <th>Temperatura</th>\n",
       "      <td>NaN</td>\n",
       "      <td>NaN</td>\n",
       "      <td>-0.191331</td>\n",
       "      <td>0.414834</td>\n",
       "      <td>NaN</td>\n",
       "      <td>1.000000</td>\n",
       "      <td>-0.310297</td>\n",
       "      <td>-0.553129</td>\n",
       "      <td>0.678613</td>\n",
       "    </tr>\n",
       "    <tr>\n",
       "      <th>Total precipitação (mm)</th>\n",
       "      <td>NaN</td>\n",
       "      <td>NaN</td>\n",
       "      <td>0.127713</td>\n",
       "      <td>0.079712</td>\n",
       "      <td>NaN</td>\n",
       "      <td>-0.310297</td>\n",
       "      <td>1.000000</td>\n",
       "      <td>0.468974</td>\n",
       "      <td>-0.235229</td>\n",
       "    </tr>\n",
       "    <tr>\n",
       "      <th>Nebulosidade total (%)</th>\n",
       "      <td>NaN</td>\n",
       "      <td>NaN</td>\n",
       "      <td>0.446908</td>\n",
       "      <td>-0.021967</td>\n",
       "      <td>NaN</td>\n",
       "      <td>-0.553129</td>\n",
       "      <td>0.468974</td>\n",
       "      <td>1.000000</td>\n",
       "      <td>-0.517435</td>\n",
       "    </tr>\n",
       "    <tr>\n",
       "      <th>Duração do sol (min)</th>\n",
       "      <td>NaN</td>\n",
       "      <td>NaN</td>\n",
       "      <td>-0.175475</td>\n",
       "      <td>0.120280</td>\n",
       "      <td>NaN</td>\n",
       "      <td>0.678613</td>\n",
       "      <td>-0.235229</td>\n",
       "      <td>-0.517435</td>\n",
       "      <td>1.000000</td>\n",
       "    </tr>\n",
       "  </tbody>\n",
       "</table>\n",
       "</div>"
      ],
      "text/plain": [
       "                         Ano  Mês       Dia      Hora  Minuto  Temperatura  \\\n",
       "Ano                      NaN  NaN       NaN       NaN     NaN          NaN   \n",
       "Mês                      NaN  NaN       NaN       NaN     NaN          NaN   \n",
       "Dia                      NaN  NaN  1.000000  0.000000     NaN    -0.191331   \n",
       "Hora                     NaN  NaN  0.000000  1.000000     NaN     0.414834   \n",
       "Minuto                   NaN  NaN       NaN       NaN     NaN          NaN   \n",
       "Temperatura              NaN  NaN -0.191331  0.414834     NaN     1.000000   \n",
       "Total precipitação (mm)  NaN  NaN  0.127713  0.079712     NaN    -0.310297   \n",
       "Nebulosidade total (%)   NaN  NaN  0.446908 -0.021967     NaN    -0.553129   \n",
       "Duração do sol (min)     NaN  NaN -0.175475  0.120280     NaN     0.678613   \n",
       "\n",
       "                         Total precipitação (mm)  Nebulosidade total (%)  \\\n",
       "Ano                                          NaN                     NaN   \n",
       "Mês                                          NaN                     NaN   \n",
       "Dia                                     0.127713                0.446908   \n",
       "Hora                                    0.079712               -0.021967   \n",
       "Minuto                                       NaN                     NaN   \n",
       "Temperatura                            -0.310297               -0.553129   \n",
       "Total precipitação (mm)                 1.000000                0.468974   \n",
       "Nebulosidade total (%)                  0.468974                1.000000   \n",
       "Duração do sol (min)                   -0.235229               -0.517435   \n",
       "\n",
       "                         Duração do sol (min)  \n",
       "Ano                                       NaN  \n",
       "Mês                                       NaN  \n",
       "Dia                                 -0.175475  \n",
       "Hora                                 0.120280  \n",
       "Minuto                                    NaN  \n",
       "Temperatura                          0.678613  \n",
       "Total precipitação (mm)             -0.235229  \n",
       "Nebulosidade total (%)              -0.517435  \n",
       "Duração do sol (min)                 1.000000  "
      ]
     },
     "metadata": {},
     "output_type": "display_data"
    }
   ],
   "source": [
    "display(temperatura.corr())"
   ]
  },
  {
   "cell_type": "markdown",
   "metadata": {},
   "source": [
    "No exemplo acima vemos que o coeficiente de correlação entre a temperatura e a nebulosidade total é de -0.553129 (veja novamente o gráfico, que não nos deixava perceber correlação alguma). Não é um valor tão próximo de -1, de modo que não podemos afirmar muita coisa."
   ]
  },
  {
   "cell_type": "code",
   "execution_count": null,
   "metadata": {},
   "outputs": [],
   "source": [
    "display(notas.corr())"
   ]
  },
  {
   "cell_type": "markdown",
   "metadata": {},
   "source": [
    "Como havíamos observado no gráfico, há correlação positiva entre a nota das listas e a nota final do aluno. Vemos agora que o coeficiente de correlação é de 0.883811, bem próximo de 1."
   ]
  },
  {
   "cell_type": "code",
   "execution_count": null,
   "metadata": {},
   "outputs": [],
   "source": [
    "display(tabela_nova.corr())"
   ]
  },
  {
   "cell_type": "markdown",
   "metadata": {},
   "source": [
    "Por fim, vemos que o coeficiente de correlação entre não ter rendimento e não ter água na propriedade é de 0.168539, bem próximo a 0, de fato indicando que não há correlação entre essas variáveis.\n",
    "\n",
    "E também vemos que o coeficiente de correlação entre ganhar mais de 20 salários mínimos e ter água em pelo menos um cômodo é de 0.902235, próximo a 1, reforçando a ideia mostrada no gráfico (não estava tão claro no gráfico, mas agora podemos ter certeza)."
   ]
  },
  {
   "cell_type": "markdown",
   "metadata": {},
   "source": [
    "Depois de constatar que existe uma correlação linear significante, é possível escrever uma equação que descreva a relação linear entre as variáveis.\n",
    "\n",
    "Essa equação chama-se **reta de regressão**.\n",
    "\n",
    "Não veremos nessa disciplina como criar tal reta no gráfico (fique à vontade para procurar isso por conta própria), mas veja a seguir um exemplo.\n",
    "\n",
    "O gráfico a seguir mostra uma correlação entre o número de faltas dos alunos por semestre e a suas respectivas notas finais numa determinada disciplina.\n",
    "\n",
    "A reta que aparece entre os pontos do gráfico de dispersão é a reta de regressão e sua equação encontra-se escrita na imagem.\n",
    "\n",
    "<img width=50% src=\"http://professor.ufabc.edu.br/~carla.negri/cursos/2018Q2-BCC/images/reta.png\">\n"
   ]
  },
  {
   "cell_type": "markdown",
   "metadata": {},
   "source": [
    "## Causalidade vs. correlação\n",
    "\n",
    "Por fim, vale uma última informação: **correlação não necessariamente implica causalidade**.\n",
    "\n",
    "Uma associação significativa entre duas variáveis não necessariamente implica uma relação de causa e efeito.\n",
    "\n",
    "Veja no exemplo a seguir que há uma forte correlação entre consumo de queijo per capita e número de pessoas que morreram por se enroscarem em seus lençóis (veja que o coeficiente de correlação é muito próximo a 1), mas claramente uma situação não causa a outra.\n",
    "\n",
    "<img width=90% src=\"http://professor.ufabc.edu.br/~carla.negri/cursos/2018Q2-BCC/images/corr-cause.png\">\n",
    "\n",
    "Você pode ver outros exemplos de correlações desse tipo [nesse site](http://www.tylervigen.com/spurious-correlations).\n"
   ]
  },
  {
   "cell_type": "code",
   "execution_count": null,
   "metadata": {},
   "outputs": [],
   "source": []
  }
 ],
 "metadata": {
  "celltoolbar": "Raw Cell Format",
  "kernelspec": {
   "display_name": "Python 3",
   "language": "python",
   "name": "python3"
  },
  "language_info": {
   "codemirror_mode": {
    "name": "ipython",
    "version": 3
   },
   "file_extension": ".py",
   "mimetype": "text/x-python",
   "name": "python",
   "nbconvert_exporter": "python",
   "pygments_lexer": "ipython3",
   "version": "3.5.2"
  }
 },
 "nbformat": 4,
 "nbformat_minor": 1
}
